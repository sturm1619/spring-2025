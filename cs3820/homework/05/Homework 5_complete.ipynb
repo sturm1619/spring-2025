{
  "metadata": {
    "kernelspec": {
      "name": "python",
      "display_name": "Python (Pyodide)",
      "language": "python"
    },
    "language_info": {
      "codemirror_mode": {
        "name": "python",
        "version": 3
      },
      "file_extension": ".py",
      "mimetype": "text/x-python",
      "name": "python",
      "nbconvert_exporter": "python",
      "pygments_lexer": "ipython3",
      "version": "3.8"
    }
  },
  "nbformat_minor": 5,
  "nbformat": 4,
  "cells": [
    {
      "id": "00a79f64",
      "cell_type": "markdown",
      "source": "# Homework 5 (line plots and distributions)\n\nFor this homework assignment you are required to use Python (pandas, matplotlib, and seaborn) to do the exercises. Please write your own code and provide your code along with your responses to the questions. ",
      "metadata": {}
    },
    {
      "id": "968181c1",
      "cell_type": "code",
      "source": "from collections.abc import Generator, Iterator\nfrom datetime import datetime\n\nimport matplotlib.pyplot as plt\nfrom matplotlib.axes import Axes\nimport seaborn as sns\nimport pandas as pd",
      "metadata": {
        "trusted": true
      },
      "outputs": [],
      "execution_count": null
    },
    {
      "id": "ceec8cbd",
      "cell_type": "markdown",
      "source": "## Part 1 (time charts)\n\nFor this part we will plot population change in some of the world's most populous countries. To get started, read in the CSV file provided on Canvas. \n* Population data source:  https://data.worldbank.org/indicator/SP.POP.TOTL \n\n",
      "metadata": {}
    },
    {
      "id": "d7764091",
      "cell_type": "code",
      "source": "df = pd.read_csv(\"country_populations.csv\", index_col = 0)\ndf.head()",
      "metadata": {
        "trusted": true
      },
      "outputs": [],
      "execution_count": null
    },
    {
      "id": "e9b09038",
      "cell_type": "markdown",
      "source": "### Problem 1 (2 points)\n\nCreate two line plots on the same figure. \n* On the first chart, plot the populations of India, China, and the United States from 1960 to 2023.\n* On the second chart, plot the populations of the United States, Indonesia, Pakistan, Nigeria, Brazil, and Bangladesh from 1960 to 2023. \n\nDo some additional formatting to the line charts:\n* Use different colors for each country (the color for the United States should be the same in both)\n* Label lines with country names directly, using the country color as the text color\n* Add horizontal gridlines \n* Remove unnecessary axis lines and tick marks\n* Add chart and figure titles, and label units appropriately\n   *  Scales should not be the same in both charts (second should be \"zoomed in\" to see populations of smaller countries)\n* Make sure all text is horizontal \n\n**Hint**: it might be helpful to transpose the dataframe so that years are rows and countries are columns",
      "metadata": {}
    },
    {
      "id": "12014cf9",
      "cell_type": "code",
      "source": "countries1 = [\"United States\", \"China\", \"India\"]\ncountries2 = [\"United States\", \"Indonesia\", \"Pakistan\", \"Nigeria\", \"Brazil\", \"Bangladesh\"]\n\n# Your answer here\n\ndef _line_plot(\n    axes: Axes,\n    data: pd.DataFrame,\n    title: str | None = None,\n    countries: list[str] | None = None,\n):\n    timespan = int(data.index.values[-1]) - int(data.index.values[0])\n    colors: Generator[str] = (\n        color\n        for color in (\n            (\"tab:blue\", \"tab:green\", \"tab:red\", \"tab:pink\", \"tab:cyan\")\n            if not countries\n            else [\"tab:green\", \"tab:blue\"] + [\"tab:gray\"] * (len(data))\n        )\n    )\n\n    for country in data.columns:\n        color = \"tab:orange\" if country == \"United States\" else next(colors)\n        data[country].plot(ax=axes, label=country, c=color)\n        if not countries or country in countries:\n            axes.text(timespan, data.loc[\"2023\", country], country, color=color)\n\n    if isinstance(title, str):\n        axes.set_title(title)\n    axes.grid(axis=\"y\")\n    axes.spines[[\"left\", \"right\", \"top\", \"bottom\"]].set_visible(False)\n\n\ndef line_plots(\n    df: pd.DataFrame,\n    info_iter: Iterator[list[str]],\n    super_title: str,\n    *,\n    rows: int = 1,\n    subtitles: Generator[str] | None = None,\n    selection: list[str] | None = None,\n):\n    fig, ax = plt.subplots(1, rows)\n    fig.suptitle(super_title)\n\n    if rows > 1:\n        if not subtitles:\n            raise ValueError(\"Subtitles were not declared.\")\n        for axes in ax:\n            _line_plot(\n                axes,\n                df.loc[next(info_iter), next(info_iter)].T,\n                next(subtitles),\n                selection,\n            )\n    else:\n        _line_plot(ax, df.loc[next(info_iter), next(info_iter)].T, countries=selection)\n\n    plt.show()\n\n\ninfo_iter: Generator[list[str]] = (info for info in (countries1, [f\"{number}\" for number in range(1960, 2024)], countries2, [f\"{number}\" for number in range(1960, 2024)]))\nsubtitles = (title for title in (\"Population (in Billions)\", \"Population (in Millions)\"))\nline_plots(\n        df,\n        info_iter,\n        \"Population in Large Countries is shrinking (1960-2023)\",\n        rows=2,\n        subtitles=subtitles,\n)",
      "metadata": {
        "trusted": true
      },
      "outputs": [],
      "execution_count": null
    },
    {
      "id": "95ab55e6",
      "cell_type": "markdown",
      "source": "### Problem 2a (1 point)\n\nCreate a new dataframe that computes the **yearly percent change** in population each year for all countries\n* Adjust the values in the dataframe so that they represent percents (multiply by 100 if necessary)\n* Reference:  https://pandas.pydata.org/docs/reference/api/pandas.DataFrame.pct_change.html ",
      "metadata": {}
    },
    {
      "id": "1df75a00",
      "cell_type": "code",
      "source": "# Your answer here\npct_change_df = df.T.pct_change(fill_method=None).T",
      "metadata": {
        "trusted": true
      },
      "outputs": [],
      "execution_count": null
    },
    {
      "id": "e6881f5f",
      "cell_type": "markdown",
      "source": "### Problem 2b (1.5 points)\n\nPlot the percent change in population from **1970** to 2023 of the following 9 countries on the same graph:\n* The United States, China, India, Indonesia, Pakistan, Nigeria, Brazil, Bangladesh, and Mexico\n\nFollow the same principles for designing the line chart as in problem 1, except:\n* Only use color for the United States, China, and India (use gray for all other countries)\n* Only label the lines for the United States, China, and India \n",
      "metadata": {}
    },
    {
      "id": "c234c674",
      "cell_type": "code",
      "source": "countries = [\"United States\", \"China\", \"India\", \"Indonesia\", \"Pakistan\", \"Nigeria\", \"Brazil\", \"Bangladesh\", \"Mexico\"]\n\n# Your answer here\nyears = [str(number) for number in range(1970, 2024)]\n\ninfo_iter2: Generator[list[str]] = (info for info in (countries, years))\n\nline_plots(\n    pct_change_df,\n    iter(info_iter2),\n    \"Population growth is slowing in larger countries (1970-2023)\",\n    selection=countries1,\n)",
      "metadata": {
        "trusted": true
      },
      "outputs": [],
      "execution_count": null
    },
    {
      "id": "9860422a",
      "cell_type": "markdown",
      "source": "### Problem 2c (1.5 points)\n\nRedesign the previous figure using ***small multiples***. Create a 3x3 grid of line plots, using the same y-axis range across all plots. \n* Label each plot with the country name\n* Remove unnecessary axis lines and tick marks as before ",
      "metadata": {}
    },
    {
      "id": "60461768",
      "cell_type": "code",
      "source": "countries = [[\"United States\", \"China\", \"India\"],\n             [\"Indonesia\", \"Pakistan\", \"Nigeria\"],\n             [\"Brazil\", \"Bangladesh\", \"Mexico\"]]\n\n# Your answer here\ndef grid_plot(df: pd.DataFrame, countries: list[str], years: list[str], title: str):\n    fig, ax = plt.subplots(3, 3)\n    maximum = df.loc[countries, years].max().max()\n\n    fig.suptitle(title)\n\n    info_iter = iter(countries)\n\n    for row in ax:\n        for axes in row:\n            country = next(info_iter)\n            axes.plot(df.loc[country, years], label=country)\n            axes.set_title(country)\n            axes.set_xticks(years[::6])\n            axes.set_ylim(0, maximum)\n            axes.grid(axis=\"y\")\n            axes.spines[[\"left\", \"right\", \"top\", \"bottom\"]].set_visible(False)\n\n    plt.show()\n\n\ngrid_plot(\n    pct_change_df, countries, years, \"Populations in 12 Countries (1970-2023)\"\n)",
      "metadata": {
        "trusted": true
      },
      "outputs": [],
      "execution_count": null
    },
    {
      "id": "00eaa60e",
      "cell_type": "markdown",
      "source": "## Part 2 (Histograms)\n\nFor this part we will get another look at the Delhi, India climate data set using histograms and density plots. \n* To get started, load the climate data provided on Canvas:",
      "metadata": {}
    },
    {
      "id": "45542980",
      "cell_type": "code",
      "source": "df_temps = pd.read_csv(\"DailyDelhiClimateTrain.csv\")\ndf_temps.head()",
      "metadata": {
        "trusted": true
      },
      "outputs": [],
      "execution_count": null
    },
    {
      "id": "a453624d",
      "cell_type": "markdown",
      "source": "### Problem 3 (2 points)\n\nCreate 3 histograms on the same figure to represent temperature counts across all available years. \n* Use bin sizes = 1 degree C, 2 degrees C, and 5 degrees C respectively \n* Include the kernel density for reference with each histogram \n* Label the units appropriately on each chart \n* Title each chart with the bin size\n\nReference:  https://seaborn.pydata.org/generated/seaborn.histplot.html ",
      "metadata": {}
    },
    {
      "id": "dcdfb447",
      "cell_type": "code",
      "source": "# Your answer here\ndef hist_plot(df: pd.DataFrame):\n    _, ax = plt.subplots(1, 3)\n    bin_sizes: Generator[int] = (bin_size for bin_size in (1, 2, 5))\n\n    for axes in ax:\n        bin_size = next(bin_sizes)\n        sns.histplot(df, ax=axes, binwidth=bin_size, kde=True)\n        axes.set_xlabel(\"Average Temperature (Celsius)\")\n        axes.set_ylabel(\"Number of Days\")\n        axes.set_title(f\"Bin size: {bin_size}\")\n        axes.lines[0].set_color(\"black\")\n\n    plt.show()\n    \nhist_plot(df_temps.meantemp.T)",
      "metadata": {
        "trusted": true
      },
      "outputs": [],
      "execution_count": null
    },
    {
      "id": "0ddadbee",
      "cell_type": "markdown",
      "source": "### Problem 4 (2 points)\n\nCreate a single chart with the kernel densities for temperature plotted for each year (2013, 2014, 2015, and 2016).\n* Label units appropriately \n* Include a legend to show which curve belongs to which year \n* What do you notice about the change in shape of the density curves?\n\nReference:  https://seaborn.pydata.org/generated/seaborn.kdeplot.html ",
      "metadata": {}
    },
    {
      "id": "cec93e23",
      "cell_type": "code",
      "source": "# Your answer here\ndef kde_plot(data: dict[str, pd.DataFrame], title: str):\n    fig, ax = plt.subplots(1, 1)\n    # print(data)\n    # print(years)\n\n    colors: Generator[str] = (\n        color for color in (\"tab:orange\", \"tab:blue\", \"tab:green\", \"tab:red\")\n    )\n\n    for year, df in data.items():\n        # print(year)\n        sns.kdeplot(df[\"meantemp\"], ax=ax, color=next(colors), label=year)\n\n    ax.set_xlabel(\"Average Temperature (Celsius)\")\n    ax.legend()\n    ax.set_title(title)\n\n    plt.show()\n\ndate_dict_all = {}\n\nfor date, temp in zip(df_temps.date.values, df_temps.meantemp.values):\n    date_dict_all[datetime.strptime(date.split()[0], \"%Y-%m-%d\")] = temp\n\nunformated_years = {2013: {}, 2014: {}, 2015: {}, 2016: {}}\nformated_years = {}\n\nfor day in date_dict_all:\n    year = day.year\n    if year in unformated_years:\n        unformated_years[year][day] = date_dict_all[day]\n\nfor year in unformated_years:\n    formated_years[year] = pd.DataFrame.from_dict(\n        unformated_years[year], orient=\"index\", columns=[\"meantemp\"]\n    )\n\nkde_plot(formated_years, \"Propensity of temperatures accross the years\")",
      "metadata": {
        "trusted": true
      },
      "outputs": [],
      "execution_count": null
    }
  ]
}