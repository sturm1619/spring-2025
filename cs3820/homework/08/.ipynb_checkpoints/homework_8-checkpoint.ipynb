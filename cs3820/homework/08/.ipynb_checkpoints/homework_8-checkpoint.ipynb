{
 "cells": [
  {
   "cell_type": "code",
   "execution_count": null,
   "id": "64face06",
   "metadata": {},
   "outputs": [],
   "source": [
    "from collections.abc import Sequence\n",
    "import os"
   ]
  },
  {
   "cell_type": "code",
   "execution_count": null,
   "id": "80305a2c",
   "metadata": {},
   "outputs": [],
   "source": [
    "import pandas as pd\n",
    "import matplotlib.pyplot as plt\n",
    "import matplotlib.patches as mpatches"
   ]
  },
  {
   "cell_type": "code",
   "execution_count": null,
   "id": "523be9b3",
   "metadata": {},
   "outputs": [],
   "source": [
    "import geopandas as gpd\n",
    "from cartogram import Cartogram"
   ]
  },
  {
   "cell_type": "markdown",
   "id": "faf7e5c9",
   "metadata": {},
   "source": [
    "NOTE: Part 1:\n",
    "Choropleths"
   ]
  },
  {
   "cell_type": "code",
   "execution_count": null,
   "id": "ee654ba5",
   "metadata": {},
   "outputs": [],
   "source": [
    "tariff_data = pd.read_csv(\"./state_tariff.csv\", header=0)\n",
    "albers_us_map = gpd.read_file(\"./us_albers/us_albers.shp\")\n",
    "tax_choropleth_data = pd.merge(albers_us_map, tariff_data, on=\"NAME\", how=\"left\")\n",
    "title: str = \"Estimated impact of Trump tariffs on Imports from Canada, China\" \\\n",
    "    + \" and Mexico\""
   ]
  },
  {
   "cell_type": "code",
   "execution_count": null,
   "id": "002b70a2",
   "metadata": {
    "lines_to_next_cell": 1
   },
   "outputs": [],
   "source": [
    "money_rule: tuple[str, str, str] = (\n",
    "    r\"< USD${:.2f}\",\n",
    "    r\"> USD${:.2f}\",\n",
    "    r\"USD${:.2f} ~ USD\\${:.2f}\",\n",
    ")"
   ]
  },
  {
   "cell_type": "code",
   "execution_count": null,
   "id": "87531271",
   "metadata": {
    "lines_to_next_cell": 1
   },
   "outputs": [],
   "source": [
    "def generate_bin_labels(bins: Sequence[int|float],\n",
    "                        rule: tuple[str, str,str]) -> list[str]:\n",
    "    bin_labels = []\n",
    "    for index in range(len(bins)):\n",
    "        match index:\n",
    "            case 0:\n",
    "                bin_labels.append(rule[0].format(bins[index]))\n",
    "            case _ if index == len(bins) - 1:\n",
    "                bin_labels.append(rule[1].format(bins[index]))\n",
    "            case _:\n",
    "                bin_labels.append(rule[2].format(\n",
    "                    bins[index-1], bins[index]))\n",
    "    return bin_labels"
   ]
  },
  {
   "cell_type": "code",
   "execution_count": null,
   "id": "2764a94e",
   "metadata": {
    "lines_to_next_cell": 1
   },
   "outputs": [],
   "source": [
    "def basic_choropleth() -> None:\n",
    "    # NOTE: Generate bins\n",
    "    bins = (1_000, 3_000, 10_000, 30_000, 47_000)\n",
    "    bin_labels = generate_bin_labels(bins, money_rule)\n",
    "    handles = [mpatches.Patch(color=plt.cm.cool(i / len(bins)), label=label)\n",
    "               for i, label in enumerate(bin_labels)]\n",
    "\n",
    "    # NOTE: Generate plot\n",
    "    tax_choropleth_data.plot(\n",
    "            column=\"tariff\", legend=True, cmap=\"cool\", scheme=\"User_Defined\",\n",
    "            classification_kwds=dict(bins=bins)\n",
    "        )\n",
    "\n",
    "    # NOTE: Prettify plot\n",
    "    ax = plt.gca()\n",
    "    ax.legend(handles=handles,# bbox_to_anchor=(1.04, 1),\n",
    "              loc='upper left', title='Tariff')\n",
    "    ax.set_axis_off()\n",
    "    ax.set_title(title, weight=\"bold\", size=\"x-large\", fontname=\"Noto Serif\")\n",
    "    plt.show()"
   ]
  },
  {
   "cell_type": "code",
   "execution_count": null,
   "id": "d7f6cd6a",
   "metadata": {
    "lines_to_next_cell": 1
   },
   "outputs": [],
   "source": [
    "def binned_choropleth() -> None:\n",
    "    bins = tuple(\n",
    "        tax_choropleth_data.sort_values(\"tariff\").iloc[i].tariff\n",
    "            for i in range(9,50,10)\n",
    "    )\n",
    "    bin_labels = generate_bin_labels(bins, money_rule)\n",
    "    handles = [mpatches.Patch(color=plt.cm.cool(i / len(bins)), label=label)\n",
    "               for i, label in enumerate(bin_labels)]\n",
    "\n",
    "    tax_choropleth_data.plot(\n",
    "        column=\"tariff\", legend=True, cmap=\"cool\", scheme=\"User_Defined\",\n",
    "        classification_kwds=dict(bins=bins)\n",
    "    )\n",
    "    ax = plt.gca()\n",
    "    ax.legend(handles=handles, bbox_to_anchor=(1.04, 1), loc='upper left', title='Tariff')\n",
    "    ax.set_axis_off()\n",
    "    ax.set_title(title, weight=\"bold\", size=\"x-large\", fontname=\"Noto Serif\")\n",
    "    plt.show()"
   ]
  },
  {
   "cell_type": "markdown",
   "id": "8dc6c835",
   "metadata": {},
   "source": [
    "binned_choropleth()\n",
    "basic_choropleth()"
   ]
  },
  {
   "cell_type": "markdown",
   "id": "9365893f",
   "metadata": {},
   "source": [
    "NOTE: Part 2:\n",
    "Contiguous Cartogram"
   ]
  },
  {
   "cell_type": "code",
   "execution_count": null,
   "id": "999c7576",
   "metadata": {},
   "outputs": [],
   "source": [
    "try:\n",
    "    open(\"cartogram_population/cartogram_albers.shp\")\n",
    "except FileNotFoundError:\n",
    "    print(\"Cartograms not found. Creating data...\")\n",
    "    population_data = pd.read_csv(\"./2024_state_pops.csv\", header=0, index_col=0)\n",
    "    us_cartogram = pd.merge(\n",
    "        tax_choropleth_data, population_data,\n",
    "        on=\"NAME\", how=\"left\"\n",
    "    )\n",
    "    us_cartogram.dropna(inplace=True)\n",
    "    us_cartogram[\"pop_tariff\"] = \\\n",
    "        us_cartogram.tariff / us_cartogram.Population # NOTE: Total tariff over state population\n",
    "    us_cartogram = Cartogram(us_cartogram, \"pop_tariff\") \n",
    "\n",
    "    if 'cartogram_population' not in os.listdir():\n",
    "        os.mkdir(\"cartogram_population\")\n",
    "\n",
    "    us_cartogram.to_file(\"cartogram_population/cartogram_albers.shp\")\n",
    "finally:\n",
    "    us_cartogram = gpd.read_file(\"cartogram_population/cartogram_albers.shp\")"
   ]
  },
  {
   "cell_type": "code",
   "execution_count": null,
   "id": "8455949b",
   "metadata": {
    "lines_to_next_cell": 1
   },
   "outputs": [],
   "source": [
    "ratio_rule: tuple[str, str, str] = (\n",
    "    r\"< {:.3%}\",\n",
    "    r\"> {:.3%}\",\n",
    "    r\"{:.3%} ~ {:.3%}\",\n",
    ")"
   ]
  },
  {
   "cell_type": "code",
   "execution_count": null,
   "id": "b4469170",
   "metadata": {},
   "outputs": [],
   "source": [
    "def contiguous_cartogram():\n",
    "    bins = tuple(\n",
    "        us_cartogram.sort_values(\"pop_tariff\").iloc[i].pop_tariff for i in range(9,50,10)\n",
    "    )\n",
    "    bin_labels = generate_bin_labels(bins, ratio_rule)\n",
    "    handles = [mpatches.Patch(color=plt.cm.Reds(i / len(bins)), label=label)\n",
    "               for i, label in enumerate(bin_labels)]\n",
    "\n",
    "    us_cartogram.plot(column=\"pop_tariff\", cmap=\"Reds\",\n",
    "                      # scheme=\"User_Defined\", classification_kwds=dict(bins=bins)\n",
    "    )\n",
    "    ax = plt.gca()\n",
    "    ax.legend(handles=handles, #bbox_to_anchor=(1.04, 1),\n",
    "              loc='upper left', title='Percentage')\n",
    "    ax.set_axis_off()\n",
    "    ax.set_title(title, weight=\"bold\", size=\"x-large\", fontname=\"Noto Serif\")\n",
    "    plt.show()"
   ]
  },
  {
   "cell_type": "markdown",
   "id": "5c28f831",
   "metadata": {
    "lines_to_next_cell": 2
   },
   "source": [
    "contiguous_cartogram()"
   ]
  },
  {
   "cell_type": "markdown",
   "id": "6a8f6778",
   "metadata": {
    "lines_to_next_cell": 2
   },
   "source": [
    "NOTE: Tile Grid Cartogram"
   ]
  },
  {
   "cell_type": "code",
   "execution_count": null,
   "id": "a3d315c7",
   "metadata": {},
   "outputs": [],
   "source": [
    "try:\n",
    "    open(\"cartogram_change/cartogram_albers.shp\")\n",
    "except FileNotFoundError:\n",
    "    print(\"Cartograms not found. Creating data...\")\n",
    "    us_cartogram_change = tax_choropleth_data.dropna()\n",
    "    us_cartogram_change[\"original\"] = \\\n",
    "        us_cartogram_change.tariff * 100/(100 + us_cartogram_change.cpg) \n",
    "\n",
    "    us_cartogram_change = pd.merge(\n",
    "        us_cartogram_change,\n",
    "    )\n",
    "    # print(\"Ha\")\n",
    "    us_cartogram_change = Cartogram(us_cartogram_change, \"cpg\") \n",
    "\n",
    "    if 'cartogram_data' not in os.listdir():\n",
    "        os.mkdir(\"cartogram_change\")\n",
    "\n",
    "    us_cartogram_change.to_file(\"cartogram_change/cartogram_albers.shp\")\n",
    "finally:\n",
    "    us_cartogram_change = gpd.read_file(\"cartogram_change/cartogram_albers.shp\")"
   ]
  },
  {
   "cell_type": "markdown",
   "id": "a117a875",
   "metadata": {},
   "source": [
    "print(us_cartogram_change[[\"original\",\"tariff\",\"cpg\"]])"
   ]
  },
  {
   "cell_type": "code",
   "execution_count": null,
   "id": "1982a891",
   "metadata": {},
   "outputs": [],
   "source": []
  },
  {
   "cell_type": "code",
   "execution_count": null,
   "id": "d903c2ae",
   "metadata": {},
   "outputs": [],
   "source": []
  },
  {
   "cell_type": "code",
   "execution_count": null,
   "id": "74ed5904",
   "metadata": {},
   "outputs": [],
   "source": []
  },
  {
   "cell_type": "code",
   "execution_count": null,
   "id": "2327afbf",
   "metadata": {},
   "outputs": [],
   "source": [
    "# Create a figure with 8x11 axes\n",
    "nrows, ncols = 8, 11\n",
    "fig, axs = plt.subplots(nrows=nrows, ncols=ncols,\n",
    "                        figsize=(8, 6))"
   ]
  },
  {
   "cell_type": "code",
   "execution_count": null,
   "id": "21e47118",
   "metadata": {},
   "outputs": [],
   "source": [
    "# define positions of rows that we want off\n",
    "rows_to_remove = [(0,0), (0,1), (0,2), (0,3), (0,4), (0,5),        (0,7), (0,8), (0,9), \n",
    "                  (1,0), (1,1), (1,2), (1,3), (1,4), (1,5), (1,6), (1,7), (1,8), \n",
    "                                                     (2,5),        (2,7), \n",
    "                                                                                        (3,10), \n",
    "                                                                                        (4,10), \n",
    "                  (5,0),                                                                (5,10), \n",
    "                  (6,0), (6,1),                                           (6,8), (6,9), (6,10), \n",
    "                         (7,1), (7,2),        (7,4), (7,5), (7,6), (7,7), (7,8),        (7,10)]"
   ]
  },
  {
   "cell_type": "code",
   "execution_count": null,
   "id": "62f2605b",
   "metadata": {},
   "outputs": [],
   "source": [
    "# define first letters of each state\n",
    "letters_state = ['AK', 'ME', 'VT', 'NH', 'WA', 'ID', 'MT', 'ND', 'MN', 'MI', 'NY',\n",
    "                 'MA', 'RI', 'OR', 'UT', 'WY', 'SD', 'IA', 'WI', 'OH', 'PA',\n",
    "                 'NJ', 'CT', 'CA', 'NV', 'CO', 'NE', 'IL', 'IN', 'WV', 'VA',\n",
    "                 'MD', 'DE', 'AZ', 'NM', 'KS', 'MO', 'KY', 'TN', 'SC', 'NC',\n",
    "                 'DC', 'OK', 'LA', 'AR', 'MS', 'AL', 'GA', 'HI', 'TX', 'FL']"
   ]
  },
  {
   "cell_type": "code",
   "execution_count": null,
   "id": "abbfc1a4",
   "metadata": {},
   "outputs": [],
   "source": [
    "# Iteare over each ax\n",
    "state = 0\n",
    "for row in range(nrows):\n",
    "    for col in range(ncols):\n",
    "        \n",
    "        # test the presence of the current ax in the list defined above\n",
    "        if (row, col) in rows_to_remove:\n",
    "            axs[row, col].axis('off')\n",
    "        \n",
    "        # all axes we want to keep\n",
    "        else:\n",
    "            \n",
    "            # Remove axis labels\n",
    "            axs[row, col].set_xticks([])\n",
    "            axs[row, col].set_yticks([])\n",
    "            \n",
    "            # add state's letters\n",
    "            letters = letters_state[state]\n",
    "            axs[row, col].annotate(letters, xy=(0.5, 0.1),\n",
    "                                   xycoords='axes fraction', color=\"black\")\n",
    "            \n",
    "            # Add color\n",
    "            print(\n",
    "                us_cartogram_change.loc[us_cartogram.STUSPS == letters, [\"original\", \"tariff\"]]\n",
    "            )\n",
    "            axs[row, col].plot(\n",
    "                us_cartogram_change.loc[us_cartogram.STUSPS == letters, [\"original\", \"tariff\"]]\n",
    "            )\n",
    "            \n",
    "            \n",
    "            state += 1"
   ]
  },
  {
   "cell_type": "code",
   "execution_count": null,
   "id": "6b68356a",
   "metadata": {
    "lines_to_next_cell": 2
   },
   "outputs": [],
   "source": [
    "            "
   ]
  },
  {
   "cell_type": "markdown",
   "id": "fbce03cb",
   "metadata": {},
   "source": [
    "Display the plot\n",
    "plt.show()"
   ]
  }
 ],
 "metadata": {
  "jupytext": {
   "cell_metadata_filter": "-all",
   "main_language": "python",
   "notebook_metadata_filter": "-all"
  }
 },
 "nbformat": 4,
 "nbformat_minor": 5
}
