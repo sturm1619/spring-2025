{
 "cells": [
  {
   "cell_type": "markdown",
   "id": "2e14ebf8",
   "metadata": {},
   "source": [
    "## Homework 3 (pandas and matplotlib)\n",
    "\n",
    "For this homework assignment you are required to use Python (pandas and matplotlib) to do the exercises. Please write your own code and provide your code along with your responses to the questions. "
   ]
  },
  {
   "cell_type": "markdown",
   "id": "c42c8a49",
   "metadata": {},
   "source": [
    "### Getting Started\n",
    "\n",
    "Import the following libraries to use in the homework set:"
   ]
  },
  {
   "cell_type": "code",
   "execution_count": null,
   "id": "f703b40e",
   "metadata": {},
   "outputs": [],
   "source": [
    "import pandas as pd\n",
    "import matplotlib.pyplot as plt"
   ]
  },
  {
   "cell_type": "markdown",
   "id": "dcf79d6d",
   "metadata": {},
   "source": [
    "For this homework we will use a world immigration/emigration data set for the years 1980 to 2013. The data set shows the numbers of people moving in and out of 45 different countries each year based on place of birth, citizenship, or place of previous / next residence.\n",
    "* Data source:  [International migration flows to and from selected countries - The 2015 revision](https://www.un.org/development/desa/pd/data/international-migration-flows)\n",
    "\n",
    "Pandas does have tools to work directly with Excel spreadsheets. But for the purposes of this homework set, load \"immigration_data.csv\" that is provided on Canvas (a flattened version of the xlsx file). \n"
   ]
  },
  {
   "cell_type": "code",
   "execution_count": null,
   "id": "6e2d2a24",
   "metadata": {},
   "outputs": [],
   "source": [
    "df = pd.read_csv(\"immigration_data.csv\")\n",
    "df.head()"
   ]
  },
  {
   "cell_type": "markdown",
   "id": "2b15c08d",
   "metadata": {},
   "source": [
    "### Problem 1 (2 points)\n",
    "\n",
    "Notice that a number of entries from 1980 to 2013 are missing values (marked as \"..\"). For the purposes of this homework assignment, replace all missing values with 0. Convert all remaining values in each of these columns to integers. \n",
    "* Check with `df.info()` that columns 1980 to 2013 have `Dtype` equal to `int64`"
   ]
  },
  {
   "cell_type": "code",
   "execution_count": null,
   "id": "ad7c3eb1",
   "metadata": {},
   "outputs": [],
   "source": [
    "# Your solution here\n",
    "\n",
    "df.info()"
   ]
  },
  {
   "cell_type": "markdown",
   "id": "a56f7228",
   "metadata": {},
   "source": [
    "### Problem 2 (2 points)\n",
    "\n",
    "A. Consider the year 2004. How many **immigrants** were reported that year across all countries?\n",
    "\n",
    "B. Consider the country Italy. How many **emigrants** are reported from 1980 to 2013 across all criteria and coverage types?\n"
   ]
  },
  {
   "cell_type": "code",
   "execution_count": null,
   "id": "b880edd2",
   "metadata": {},
   "outputs": [],
   "source": [
    "# A. Your solution here\n"
   ]
  },
  {
   "cell_type": "code",
   "execution_count": null,
   "id": "ac9a7c5b",
   "metadata": {},
   "outputs": [],
   "source": [
    "# B. Your solution here\n"
   ]
  },
  {
   "cell_type": "markdown",
   "id": "f3bae861",
   "metadata": {},
   "source": [
    "### Problem 3 (3 points)\n",
    "\n",
    "Create two new data frames. \n",
    "* Create `df_immigrants` with column `CntName` followed by years 1980 to 2013. Create one row per country. \n",
    "  * The values in columns 1980 to 2013 should be the number of **imigrants** reported for that country across all criteria and coverage types\n",
    "  * Make sure the rows of the data frame are sorted alphabetically by country name\n",
    "* Repeat the process to create `df_emigrants` that has the same information except using **emigrants** "
   ]
  },
  {
   "cell_type": "code",
   "execution_count": null,
   "id": "00c80ea5",
   "metadata": {},
   "outputs": [],
   "source": [
    "# Your solution here\n"
   ]
  },
  {
   "cell_type": "code",
   "execution_count": null,
   "id": "4eadd878",
   "metadata": {},
   "outputs": [],
   "source": [
    "# Your solution here\n"
   ]
  },
  {
   "cell_type": "markdown",
   "id": "55454fb9",
   "metadata": {},
   "source": [
    "### Problem 4 (3 points)\n",
    "\n",
    "Focus on the years 2000 to 2009, and the countries Armenia, Canada, Ireland, and Norway. Create a 2 x 2 grid of line plots that have two lines each:  one for the number of each country's immigrants each year, and one for the number of each country's emigrants each year. \n",
    "* Each individual line graph should be labeled with the country name\n",
    "* The line colors for immigrants and emigrants should be consistant through all four charts\n",
    "  * Choose one of the plots to incorporate a legend into\n",
    "* Give the whole figure a title \n",
    "\n",
    "**Note 1**:  Yes the scales will be different for each chart, but that is fine for now\n",
    "\n",
    "**Note 2**:  Be sure to use `plt.tight_layout()` to make sure text and charts don't overlap!"
   ]
  },
  {
   "cell_type": "code",
   "execution_count": null,
   "id": "f52c7352",
   "metadata": {},
   "outputs": [],
   "source": [
    "# Your solution here \n"
   ]
  }
 ],
 "metadata": {
  "kernelspec": {
   "display_name": "Python 3 (ipykernel)",
   "language": "python",
   "name": "python3"
  },
  "language_info": {
   "codemirror_mode": {
    "name": "ipython",
    "version": 3
   },
   "file_extension": ".py",
   "mimetype": "text/x-python",
   "name": "python",
   "nbconvert_exporter": "python",
   "pygments_lexer": "ipython3",
   "version": "3.11.4"
  }
 },
 "nbformat": 4,
 "nbformat_minor": 5
}
