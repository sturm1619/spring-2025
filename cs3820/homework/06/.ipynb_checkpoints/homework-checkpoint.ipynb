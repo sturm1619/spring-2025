{
 "cells": [
  {
   "cell_type": "markdown",
   "id": "e22cdde1",
   "metadata": {},
   "source": [
    "# Homework 6 (distributions, statistical error, and scatter plots)\n",
    "\n",
    "For this homework assignment you are required to use Python (pandas, matplotlib, and seaborn) to do the exercises. Please write your own code and provide your code along with your responses to the questions."
   ]
  },
  {
   "cell_type": "code",
   "execution_count": null,
   "id": "53995c2c",
   "metadata": {},
   "outputs": [],
   "source": [
    "import matplotlib.pyplot as plt\n",
    "import seaborn as sns\n",
    "import pandas as pd"
   ]
  },
  {
   "cell_type": "markdown",
   "id": "3f0e4326",
   "metadata": {},
   "source": [
    "### Climate Data\n",
    "\n",
    "For this assignment we will continue visualizing the Delhi, India climate data set.\n",
    "* To get started, load the climate data provided on Canvas\n",
    "* Data source:  https://www.kaggle.com/datasets/sumanthvrao/daily-climate-time-series-data\n"
   ]
  },
  {
   "cell_type": "code",
   "execution_count": null,
   "id": "72467be7",
   "metadata": {},
   "outputs": [],
   "source": [
    "df_temps = pd.read_csv(\"DailyDelhiClimateTrain.csv\")\n",
    "df_temps.head()"
   ]
  },
  {
   "cell_type": "markdown",
   "id": "74f1e683",
   "metadata": {},
   "source": [
    "### Problem 1 (1.5 points)\n",
    "\n",
    "First, create a new column in `df_temps` that contains the name of the month (\"January\", \"February\", etc.) of the date for each row. Then visualize the average temperatures recorded in January in two ways:\n",
    "* Plot a density curve\n",
    "* Make a scatter plot (plot temperature along the x-axis, and use \"jittering\" to spread out the dots vertically)\n",
    "\n",
    "For the jittering, you may create your own randomness (e.g. sample from a uniform distribution), or use a built-in solution (e.g. seaborn stripplot -- https://seaborn.pydata.org/generated/seaborn.stripplot.html )"
   ]
  },
  {
   "cell_type": "code",
   "execution_count": null,
   "id": "feff4cde",
   "metadata": {},
   "outputs": [],
   "source": [
    "# Your answer here\n",
    "df_temps[\"month\"] = pd.to_datetime(df_temps.date).apply(lambda x: x.strftime(\"%B\"))\n",
    "january_data = df_temps[df_temps[\"month\"] == \"January\"].meantemp\n",
    "cloud = sns.kdeplot(january_data, fill=True)\n",
    "cloud.set_title(\"Mean temperature in January\")\n",
    "cloud.set_xlabel(\"Mean temperature\")\n",
    "plt.show()"
   ]
  },
  {
   "cell_type": "code",
   "execution_count": null,
   "id": "2be56f15",
   "metadata": {
    "lines_to_next_cell": 2
   },
   "outputs": [],
   "source": [
    "rain = sns.stripplot(january_data, jitter=True, orient=\"h\")\n",
    "rain.set_title(\"Mean temperature in January\")\n",
    "rain.set_xlabel(\"Mean temperature\")\n",
    "plt.show()"
   ]
  },
  {
   "cell_type": "markdown",
   "id": "7ec8e1bb",
   "metadata": {},
   "source": [
    "### Problem 2 (1.5 points)\n",
    "\n",
    "**(a)** Now combine these charts together to **make it rain!**\n",
    "* Plot the density curve, and place the scatter plot underneath\n",
    "  * Remove excess vertical whitespace between them, if necessary\n",
    "* Include the shading under the density curve\n",
    "* Remove all axis lines and units for the moment\n",
    "* Adjust the `alpha` value on the scatter plot so that there is some transparency between overlapping dots (alpha = 0.7 seems to work well)\n",
    "* **Be sure to use the same x-axis limits on both charts!**"
   ]
  },
  {
   "cell_type": "code",
   "execution_count": null,
   "id": "017ef72d",
   "metadata": {},
   "outputs": [],
   "source": [
    "fig, ax = plt.subplots(2, 1)\n",
    "\n",
    "cloud = sns.kdeplot(january_data, fill=True, ax=ax[0])\n",
    "cloud.spines[[\"top\", \"left\", \"right\", \"bottom\"]].set_visible(False)\n",
    "cloud.set_xlabel(\" \")\n",
    "cloud.set_ylabel(\" \")\n",
    "cloud.set_yticklabels([])\n",
    "cloud.set_xticklabels([])\n",
    "cloud.yaxis.set_ticks_position(\"none\")\n",
    "cloud.xaxis.set_ticks_position(\"none\")\n",
    "\n",
    "rain = sns.stripplot(january_data, jitter=True, orient=\"h\", ax=ax[1], alpha=0.7)\n",
    "rain.xaxis = cloud.get_xaxis()\n",
    "rain.spines[[\"top\", \"left\", \"right\", \"bottom\"]].set_visible(False)\n",
    "\n",
    "plt.tick_params(\n",
    "    \"both\",\n",
    "    which=\"both\",\n",
    "    left=False,\n",
    ")\n",
    "\n",
    "plt.show()"
   ]
  },
  {
   "cell_type": "markdown",
   "id": "29aa1568",
   "metadata": {
    "lines_to_next_cell": 0
   },
   "source": [
    "**(b)** Now let's do a little more design:\n",
    "* Use a vertical line to show the mean temperature for January\n",
    "* Color both charts using `coolwarm` color palette\n",
    "  * Set 0 as low and 40 as high\n",
    "  * Use the mean value / 40 as the fraction for the color palette"
   ]
  },
  {
   "cell_type": "code",
   "execution_count": null,
   "id": "8c534e9a",
   "metadata": {},
   "outputs": [],
   "source": [
    "fig, ax = plt.subplots(2, 1)\n",
    "\n",
    "cloud = sns.kdeplot(january_data, fill=True, ax=ax[0],color='coolwarm')\n",
    "cloud.spines[[\"top\", \"left\", \"right\", \"bottom\"]].set_visible(False)\n",
    "cloud.set_xlabel(\" \")\n",
    "cloud.set_ylabel(\" \")\n",
    "cloud.set_yticklabels([])\n",
    "cloud.set_xticklabels([])\n",
    "cloud.yaxis.set_ticks_position(\"none\")\n",
    "cloud.xaxis.set_ticks_position(\"none\")\n",
    "cloud.axvline(x=january_data.mean())\n",
    "\n",
    "rain = sns.stripplot(january_data, jitter=True, orient=\"h\", ax=ax[1], alpha=0.7,color='coolwarm')\n",
    "rain.xaxis = cloud.get_xaxis()\n",
    "rain.spines[[\"top\", \"left\", \"right\", \"bottom\"]].set_visible(False)\n",
    "\n",
    "plt.tick_params(\n",
    "    \"both\",\n",
    "    which=\"both\",\n",
    "    left=False,\n",
    ")\n",
    "\n",
    "plt.show()"
   ]
  },
  {
   "cell_type": "markdown",
   "id": "4185913a",
   "metadata": {},
   "source": [
    "**Note**:\n",
    "* https://matplotlib.org/stable/api/_as_gen/matplotlib.axes.Axes.axvline.html uses proportions for its boundary values (0 is min, 1 is max)\n",
    "* https://matplotlib.org/stable/api/_as_gen/matplotlib.axes.Axes.vlines.html#matplotlib.axes.Axes.vlines uses data coordinates\n",
    "\n"
   ]
  },
  {
   "cell_type": "markdown",
   "id": "3dfcacf6",
   "metadata": {},
   "source": [
    "### Problem 3 (4 points)\n",
    "\n",
    "Use the previous problem to show temperature averages across all months:\n",
    "* Create 12 raincloud charts, 1 per month, and stack them vertically\n",
    "* Use the same low and high temperature on each chart (ranges from about 3 to about 42)\n",
    "* Use the same y-axis values on each density curve\n",
    "* Color each individual month according to the `coolwarm` color palette\n",
    "  * Use the mean temperature value for each month\n",
    "  * Compute the range of average temperatures to use as your interval (lowest average should map to about 0, and highest average should map to about 1)\n",
    "* Include the mean temperature line on each density curve\n",
    "\n",
    "Additional design elements:\n",
    "* Get rid of any extraneous legends, axis lines, box lines (spines), etc.\n",
    "* Plot a grid line at 0 for each density curve\n",
    "* Label the months on each chart\n",
    "* Get rid of excess vertical whitespace\n",
    "* Show units on x-axis once at the bottom of the figure\n",
    "* Create a figure title\n"
   ]
  },
  {
   "cell_type": "markdown",
   "id": "aa938f44",
   "metadata": {},
   "source": [
    "### Problem 4 (3 points)\n",
    "\n",
    "Let's go back to the original data frame:"
   ]
  },
  {
   "cell_type": "code",
   "execution_count": null,
   "id": "9cddab72",
   "metadata": {},
   "outputs": [],
   "source": [
    "df_temps.head()"
   ]
  },
  {
   "cell_type": "markdown",
   "id": "75fba595",
   "metadata": {},
   "source": [
    "**(a)** Create a scatter plot to plot `meantemp` against `humidity`. Include a line of best fit:\n",
    "*  https://numpy.org/doc/stable/reference/generated/numpy.polyfit.html\n"
   ]
  },
  {
   "cell_type": "markdown",
   "id": "d9c56218",
   "metadata": {},
   "source": [
    "**(b)** Update the scatter plot by coloring dots by season:\n",
    "* Use December, January, February as winter\n",
    "* Use March, April, May as spring\n",
    "* Use June, July, August as summer\n",
    "* Use September, October, November as fall\n"
   ]
  },
  {
   "cell_type": "markdown",
   "id": "0732328f",
   "metadata": {},
   "source": [
    "**(c)** Finally, split the scatter plot into 4 individual charts:\n",
    "* Use a 2x2 grid, with one chart per season\n",
    "* Label the season for each individual chart\n",
    "* Use the same x and y coordinate ranges on each chart\n",
    "* Include an individual line of best fit for each chart\n"
   ]
  }
 ],
 "metadata": {
  "kernelspec": {
   "display_name": "Python 3 (ipykernel)",
   "language": "python",
   "name": "python3"
  }
 },
 "nbformat": 4,
 "nbformat_minor": 5
}
