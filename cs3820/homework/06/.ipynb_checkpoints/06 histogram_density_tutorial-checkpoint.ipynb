{
 "cells": [
  {
   "cell_type": "markdown",
   "metadata": {
    "hideCode": false,
    "hidePrompt": false
   },
   "source": [
    "# Histograms and Density Plots\n",
    "\n",
    "Adapted from <a href = \"https://towardsdatascience.com/histograms-and-density-plots-in-python-f6bda88f5ac0\">Will Koehrsen</a>\n",
    "* Github:  https://github.com/WillKoehrsen/Data-Analysis/blob/master/univariate_dist/Histogram%20and%20Density%20Plot.ipynb\n",
    "\n",
    "In this notebook we will look at the [NYCFlights13 dataset](https://www.kaggle.com/datasets/aephidayatuloh/nyc-flights-2013), which contains information on over 300,000 planes departing NYC airports in 2013. We will focus on visualizing the distribution of arrival delays given in minutes. "
   ]
  },
  {
   "cell_type": "code",
   "execution_count": null,
   "metadata": {
    "hideCode": false,
    "hidePrompt": false
   },
   "outputs": [],
   "source": [
    "import pandas as pd\n",
    "import matplotlib.pyplot as plt\n",
    "import seaborn as sns"
   ]
  },
  {
   "cell_type": "markdown",
   "metadata": {
    "hideCode": false,
    "hidePrompt": false
   },
   "source": [
    "## Data Import \n",
    "\n",
    "To begin, we will join two of the data files into one:"
   ]
  },
  {
   "cell_type": "code",
   "execution_count": null,
   "metadata": {},
   "outputs": [],
   "source": [
    "flights = pd.read_csv('airline_data/nyc_flights.csv')\n",
    "airlines = pd.read_csv('airline_data/nyc_airlines.csv')\n",
    "\n",
    "flights = flights.merge(airlines, how = 'left', on = 'carrier')\n",
    "flights = flights[['arr_delay', 'name']] \n",
    "\n",
    "# Filter flight delays between -60 and 120 minutes\n",
    "flights = flights[flights['arr_delay'].between(-60, 120)]\n",
    "flights.head(10)"
   ]
  },
  {
   "cell_type": "markdown",
   "metadata": {},
   "source": [
    "Or you may just read in the formatted version provided on Canvas:"
   ]
  },
  {
   "cell_type": "code",
   "execution_count": null,
   "metadata": {
    "hideCode": false,
    "hidePrompt": false
   },
   "outputs": [],
   "source": [
    "flights = pd.read_csv('formatted_flights.csv', index_col = 0)\n",
    "flights.head()"
   ]
  },
  {
   "cell_type": "code",
   "execution_count": null,
   "metadata": {},
   "outputs": [],
   "source": [
    "flights['arr_delay'].describe()"
   ]
  },
  {
   "cell_type": "markdown",
   "metadata": {
    "hideCode": false,
    "hidePrompt": false
   },
   "source": [
    "# Histogram of All Arrival Delays "
   ]
  },
  {
   "cell_type": "markdown",
   "metadata": {
    "hideCode": false,
    "hidePrompt": false
   },
   "source": [
    "## Matplotlib"
   ]
  },
  {
   "cell_type": "code",
   "execution_count": null,
   "metadata": {
    "hideCode": false,
    "hidePrompt": false
   },
   "outputs": [],
   "source": [
    "# Make the histogram using matplotlib, bins must be integet\n",
    "plt.hist(flights['arr_delay'], color = 'blue', edgecolor = 'black',\n",
    "         bins = 180 // 5)\n",
    "\n",
    "# Add labels\n",
    "plt.title('Histogram of Arrival Delays')\n",
    "plt.xlabel('Delay (min)'); plt.ylabel('Flights');"
   ]
  },
  {
   "cell_type": "markdown",
   "metadata": {
    "hideCode": false,
    "hidePrompt": false
   },
   "source": [
    "## Seaborn"
   ]
  },
  {
   "cell_type": "code",
   "execution_count": null,
   "metadata": {
    "hideCode": false,
    "hidePrompt": false
   },
   "outputs": [],
   "source": [
    "sns.histplot(flights['arr_delay'], bins= 180 // 5, color = 'blue')\n",
    "\n",
    "plt.title('Histogram of Arrival Delays')\n",
    "plt.xlabel('Delay (min)'); plt.ylabel('Flights');\n"
   ]
  },
  {
   "cell_type": "markdown",
   "metadata": {},
   "source": [
    "## Histogram with Varying Binwidths"
   ]
  },
  {
   "cell_type": "code",
   "execution_count": null,
   "metadata": {},
   "outputs": [],
   "source": [
    "# Set up the plot\n",
    "fig, axs = plt.subplots(2, 2, figsize=(18, 16))\n",
    "coords = [(0, 0), (0, 1), (1, 0), (1, 1)]\n",
    "\n",
    "# Show 4 different binwidths\n",
    "for i, binwidth in enumerate([1, 5, 10, 15]):\n",
    "    \n",
    "    ax = axs[coords[i][0]][coords[i][1]]\n",
    "    \n",
    "    # Draw the plot\n",
    "    ax.hist(flights['arr_delay'], bins = int(180/binwidth),\n",
    "             color = 'blue', edgecolor = 'black')\n",
    "    \n",
    "    # Title and labels\n",
    "    ax.set_title('Histogram with Binwidth = %d' % binwidth, size = 30)\n",
    "    ax.set_xlabel('Delay (min)', size = 22)\n",
    "    ax.set_ylabel('Flights', size= 22)\n",
    "\n",
    "plt.tight_layout()\n",
    "plt.show()"
   ]
  },
  {
   "cell_type": "markdown",
   "metadata": {
    "hideCode": false,
    "hidePrompt": false
   },
   "source": [
    "# Where Histograms Fail: Multiple Categories\n",
    "\n",
    "Histograms work very well for display a single variable from one category (in this case the one category was all the flights). However, for displaying multiple categories, a histogram does not work well because the plots are obscured."
   ]
  },
  {
   "cell_type": "code",
   "execution_count": null,
   "metadata": {
    "hideCode": false,
    "hidePrompt": false
   },
   "outputs": [],
   "source": [
    "# Extract top five airlines with most flights\n",
    "carrier_flights = pd.Series(flights.groupby('name')['name'].count())\n",
    "carrier_flights = carrier_flights.sort_values(ascending=False)\n",
    "top_five = carrier_flights.index[:5]\n",
    "\n",
    "# Subset to the top 5 airlines\n",
    "top_five_flights = flights[flights['name'].isin(top_five)]"
   ]
  },
  {
   "cell_type": "code",
   "execution_count": null,
   "metadata": {
    "hideCode": false,
    "hidePrompt": false
   },
   "outputs": [],
   "source": [
    "plt.figure(figsize = (10, 8)) \n",
    "\n",
    "# Iterate through each of the five airlines\n",
    "for airline in top_five:\n",
    "    # Subset to the airline\n",
    "    subset = top_five_flights[top_five_flights['name'] == airline]\n",
    "    # Make a histogram with the airline\n",
    "    sns.histplot(subset['arr_delay'], bins = int(180/5), label = airline, stat = \"density\")\n",
    "    \n",
    "plt.legend(prop={'size': 16}, title = 'Airline')\n",
    "plt.title('Histogram of Delays by Airline'); plt.xlabel('Delay (min)'); plt.ylabel('Normalized Counts');"
   ]
  },
  {
   "cell_type": "code",
   "execution_count": null,
   "metadata": {},
   "outputs": [],
   "source": [
    "# Make a separate list for each airline\n",
    "x1 = list(flights[flights['name'] == 'United Air Lines Inc.']['arr_delay'])\n",
    "x2 = list(flights[flights['name'] == 'JetBlue Airways']['arr_delay'])\n",
    "x3 = list(flights[flights['name'] == 'ExpressJet Airlines Inc.']['arr_delay'])\n",
    "x4 = list(flights[flights['name'] == 'Delta Air Lines Inc.']['arr_delay'])\n",
    "x5 = list(flights[flights['name'] == 'American Airlines Inc.']['arr_delay'])\n",
    "\n",
    "# Assign colors for each airline and the names\n",
    "colors = ['#E69F00', '#56B4E9', '#F0E442', '#009E73', '#D55E00']\n",
    "names = ['United Air Lines Inc.', 'JetBlue Airways', 'ExpressJet Airlines Inc.',\n",
    "         'Delta Air Lines Inc.', 'American Airlines Inc.']"
   ]
  },
  {
   "cell_type": "markdown",
   "metadata": {},
   "source": [
    "## Solution 1: Side-by-Side Histograms"
   ]
  },
  {
   "cell_type": "code",
   "execution_count": null,
   "metadata": {},
   "outputs": [],
   "source": [
    "plt.figure(figsize = (10, 8))\n",
    "\n",
    "# Make the histogram using a list of lists\n",
    "# Normalize the flights and assign colors and names\n",
    "plt.hist([x1, x2, x3, x4, x5], bins = int(180/15), density=True,\n",
    "         color = colors, label=names)\n",
    "\n",
    "# Plot formatting\n",
    "plt.legend()\n",
    "plt.xlabel('Delay (min)')\n",
    "plt.ylabel('Normalized Flights')\n",
    "plt.title('Side-by-Side Histogram with Multiple Airlines');"
   ]
  },
  {
   "cell_type": "markdown",
   "metadata": {},
   "source": [
    "## Solution 2: Stacked Histograms"
   ]
  },
  {
   "cell_type": "code",
   "execution_count": null,
   "metadata": {},
   "outputs": [],
   "source": [
    "plt.figure(figsize = (10, 8))\n",
    "plt.hist([x1, x2, x3, x4, x5], bins = int(180/15), density=True,\n",
    "         stacked=True,\n",
    "         color = colors, label=names)\n",
    "\n",
    "plt.legend(); plt.xlabel('Delay (min)'); plt.ylabel('Normed Flights');\n",
    "plt.title('Stacked Histogram with Multiple Airlines');"
   ]
  },
  {
   "cell_type": "markdown",
   "metadata": {
    "hideCode": false,
    "hidePrompt": false
   },
   "source": [
    "# Solution 3: Density Plots\n",
    "\n",
    "A density plot uses a kernel (by default a Gaussian) at every data point to create a distribution and then sums the distribution at each location to create a single distribution.\n",
    "\n",
    "![](images/KDEWIKI.png)\n",
    "\n",
    "This produces a smoothed version of a histogram where the y-axis is in density. This density can be thought of as a probability of the data value corresponding to the value on the x-axis, but this can create issues because the density may be greater than one. I usually just think of it as _density_, a value used for comparison purposes only. "
   ]
  },
  {
   "cell_type": "markdown",
   "metadata": {
    "hideCode": false,
    "hidePrompt": false
   },
   "source": [
    "## Density Plot of All Delays Using Seaborn"
   ]
  },
  {
   "cell_type": "code",
   "execution_count": null,
   "metadata": {
    "hideCode": false,
    "hidePrompt": false
   },
   "outputs": [],
   "source": [
    "fig, ax = plt.subplots(figsize = (9, 7))\n",
    "\n",
    "sns.histplot(flights['arr_delay'], ax = ax, kde=True, \n",
    "             bins=int(180/5), color = 'darkblue')\n",
    "\n",
    "# Adjust density curve appearance\n",
    "ax.lines[0].set_color(\"black\")\n",
    "ax.lines[0].set_linewidth(2)\n",
    "\n",
    "plt.title('Density Plot and Histogram of Arrival Delays'); \n",
    "plt.xlabel('Delay (min)'); plt.ylabel('Density');"
   ]
  },
  {
   "cell_type": "markdown",
   "metadata": {
    "hideCode": false,
    "hidePrompt": false
   },
   "source": [
    "# Density Plot with Varying Bandwidths\n",
    "\n",
    "See https://docs.scipy.org/doc/scipy/reference/generated/scipy.stats.gaussian_kde.html#scipy.stats.gaussian_kde "
   ]
  },
  {
   "cell_type": "code",
   "execution_count": null,
   "metadata": {
    "hideCode": false,
    "hidePrompt": false
   },
   "outputs": [],
   "source": [
    "plt.figure(figsize = (12, 10))\n",
    "\n",
    "# Scott method is the default\n",
    "for bandwidth in [\"scott\", 0.2, 0.5, 1, 5]:\n",
    "    sns.kdeplot(flights['arr_delay'], bw_method = bandwidth, linewidth = 3, label = bandwidth)\n",
    "    \n",
    "plt.xlim(-75, 125)\n",
    "    \n",
    "plt.legend(prop={'size': 16}, title = 'bandwidth')\n",
    "plt.title('Density Plot with Varying Bandwidths'); \n",
    "plt.xlabel('Delay (min)'); plt.ylabel('Density');"
   ]
  },
  {
   "cell_type": "markdown",
   "metadata": {
    "hideCode": false,
    "hidePrompt": false
   },
   "source": [
    "# Density Plot of Delays of Top Five"
   ]
  },
  {
   "cell_type": "code",
   "execution_count": null,
   "metadata": {
    "hideCode": false,
    "hidePrompt": false
   },
   "outputs": [],
   "source": [
    "plt.figure(figsize = (12, 8) )\n",
    "\n",
    "# List of five airlines to plot\n",
    "airlines = ['United Air Lines Inc.', 'JetBlue Airways', 'ExpressJet Airlines Inc.',\n",
    "         'Delta Air Lines Inc.', 'American Airlines Inc.']\n",
    "\n",
    "# Iterate through the top five airlines\n",
    "for airline in airlines:\n",
    "    # Subset to the airline\n",
    "    subset = flights[flights['name'] == airline]\n",
    "    \n",
    "    # Draw the density plot\n",
    "    sns.kdeplot(subset['arr_delay'], linewidth = 3,\n",
    "                 label = airline)\n",
    "    \n",
    "plt.legend(prop={'size': 16}, title = 'Airline')\n",
    "plt.title('Density Plot with Multiple Airlines'); \n",
    "plt.xlabel('Delay (min)')\n",
    "plt.ylabel('Density');"
   ]
  },
  {
   "cell_type": "markdown",
   "metadata": {},
   "source": [
    "## Shaded Density Plot"
   ]
  },
  {
   "cell_type": "code",
   "execution_count": null,
   "metadata": {},
   "outputs": [],
   "source": [
    "plt.figure(figsize = (12, 8) )\n",
    "\n",
    "\n",
    "for airline in ['United Air Lines Inc.', 'Alaska Airlines Inc.']:\n",
    "    subset = flights[flights['name'] == airline]\n",
    "    \n",
    "    sns.kdeplot(subset['arr_delay'], fill = True, linewidth = 3, label = airline)\n",
    "    \n",
    "plt.legend(prop={'size': 16}, title = 'Airline')\n",
    "plt.title('Shaded Density Plot of Arrival Delays'); \n",
    "plt.xlabel('Delay (min)'); plt.ylabel('Density');"
   ]
  },
  {
   "cell_type": "code",
   "execution_count": null,
   "metadata": {},
   "outputs": [],
   "source": [
    "# List of five airlines to plot\n",
    "airlines = ['United Air Lines Inc.', 'JetBlue Airways', 'ExpressJet Airlines Inc.',\n",
    "         'Delta Air Lines Inc.', 'American Airlines Inc.']\n",
    "\n",
    "fig, axs = plt.subplots(5, 1, figsize=(12, 8))\n",
    "\n",
    "# Iterate through the top five airlines\n",
    "for i in range(5):\n",
    "    \n",
    "    airline = airlines[i]\n",
    "    \n",
    "    # Subset to the airline\n",
    "    subset = flights[flights['name'] == airline]\n",
    "    \n",
    "    # Draw the density plot\n",
    "    sns.kdeplot(subset['arr_delay'], linewidth = 0.1, fill = True,\n",
    "                 label = airline, ax = axs[i])\n",
    "    \n",
    "    axs[i].text(80, 0.004, airline, fontweight=\"bold\")\n",
    "    axs[i].set_ylim(0, 0.025)\n",
    "    axs[i].set_xlim(-75, 125)\n",
    "    axs[i].set_axis_off()\n",
    "\n",
    "# Condense plots\n",
    "fig.subplots_adjust(hspace=-0.5)\n",
    "\n",
    "# Add in units at bottom\n",
    "xvals = list(range(-75, 126, 25))\n",
    "for x in xvals:\n",
    "    axs[4].text(x, -0.002, str(x), ha = \"center\")\n",
    "axs[4].text(25, -0.005, \"Delay (min)\", ha = \"center\")\n",
    "\n",
    "# Figure title\n",
    "axs[0].set_title('Density Plot with Multiple Airlines'); \n"
   ]
  },
  {
   "cell_type": "markdown",
   "metadata": {},
   "source": [
    "## Density with Rug Plot"
   ]
  },
  {
   "cell_type": "code",
   "execution_count": null,
   "metadata": {},
   "outputs": [],
   "source": [
    "plt.figure(figsize = (12, 8) )\n",
    "\n",
    "# Subset to Alaska Airlines\n",
    "subset = flights[flights['name'] == 'Alaska Airlines Inc.']\n",
    "\n",
    "# Density Plot\n",
    "sns.kdeplot(subset['arr_delay'], color = 'darkblue', linewidth = 3)\n",
    "\n",
    "# Rug plot\n",
    "sns.rugplot(subset['arr_delay'], color = \"black\")\n",
    "\n",
    "# Plot formatting\n",
    "plt.title('Density Plot with Rug Plot for Alaska Airlines');\n",
    "plt.xlabel('Delay (min)'); plt.ylabel('Density');"
   ]
  },
  {
   "cell_type": "code",
   "execution_count": null,
   "metadata": {},
   "outputs": [],
   "source": []
  }
 ],
 "metadata": {
  "hide_code_all_hidden": false,
  "kernelspec": {
   "display_name": "Python 3 (ipykernel)",
   "language": "python",
   "name": "python3"
  },
  "language_info": {
   "codemirror_mode": {
    "name": "ipython",
    "version": 3
   },
   "file_extension": ".py",
   "mimetype": "text/x-python",
   "name": "python",
   "nbconvert_exporter": "python",
   "pygments_lexer": "ipython3",
   "version": "3.11.4"
  }
 },
 "nbformat": 4,
 "nbformat_minor": 2
}
