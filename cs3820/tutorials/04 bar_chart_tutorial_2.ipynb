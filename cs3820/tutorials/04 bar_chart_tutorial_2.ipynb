{
 "cells": [
  {
   "cell_type": "markdown",
   "id": "7de1d371",
   "metadata": {},
   "source": [
    "# Bar Charts\n",
    "\n",
    "The data for this tutorial is available at https://www.kaggle.com/datasets/berkayalan/2021-olympics-medals-in-tokyo"
   ]
  },
  {
   "cell_type": "code",
   "execution_count": null,
   "id": "0abe3c7d",
   "metadata": {},
   "outputs": [],
   "source": [
    "# imports\n",
    "\n",
    "import pandas as pd\n",
    "import matplotlib.pyplot as plt"
   ]
  },
  {
   "cell_type": "code",
   "execution_count": null,
   "id": "d4cc09b5",
   "metadata": {},
   "outputs": [],
   "source": [
    "# read in data\n",
    "\n",
    "df = pd.read_csv(\"tokyo_medals_2021.csv\")"
   ]
  },
  {
   "cell_type": "markdown",
   "id": "a6b0363a",
   "metadata": {},
   "source": [
    "## Grouped Bar Charts\n",
    "\n",
    "In the previous tutorial, we compared each country's performance based on total medal count. Another question to ask is how each country's total medal count breaks down into gold, silver, and bronze medals. Recall that this information is included in the data table:"
   ]
  },
  {
   "cell_type": "code",
   "execution_count": null,
   "id": "abeca186",
   "metadata": {},
   "outputs": [],
   "source": [
    "df.head()"
   ]
  },
  {
   "cell_type": "markdown",
   "id": "f0f2f4e0",
   "metadata": {},
   "source": [
    "Let's grab the top ten countries by total medal count, and visualize their medal categories. Here's what `pandas` gives us straight out of the box:"
   ]
  },
  {
   "cell_type": "code",
   "execution_count": null,
   "id": "3cda30e0",
   "metadata": {},
   "outputs": [],
   "source": [
    "top_ten = df[\"Rank By Total\"] <= 10  # Filtering criterion\n",
    "new_df = df[top_ten]  # Create new data frame based on filtering criterion\n",
    "\n",
    "new_df.plot.bar(\"Country\", [\"Gold Medal\", \"Silver Medal\", \"Bronze Medal\"])\n",
    "plt.show()"
   ]
  },
  {
   "cell_type": "markdown",
   "id": "e37790fa",
   "metadata": {},
   "source": [
    "We can apply some of our tricks from before:\n",
    "* Rotate the chart\n",
    "* Sort by total medal count\n",
    "* Maybe even make the bar colors match the medal type!"
   ]
  },
  {
   "cell_type": "code",
   "execution_count": null,
   "id": "e497873f",
   "metadata": {},
   "outputs": [],
   "source": [
    "sorted_df = new_df.sort_values(by=\"Total\") # will sort the entire dataframe by the values in the Total column\n",
    "\n",
    "sorted_df.plot.barh(\"Country\", [\"Gold Medal\", \"Silver Medal\", \"Bronze Medal\"], color = [\"gold\", \"silver\", \"#CD7F32\"])\n",
    "plt.show()"
   ]
  },
  {
   "cell_type": "markdown",
   "id": "ebbfe2dc",
   "metadata": {},
   "source": [
    "Infuriatingly, the default Pandas plot puts Gold on the bottom with Bronze on top. Reordering the inputs will affect the order of the legend, so we will need to retrieve the handles and labels and reverse them:"
   ]
  },
  {
   "cell_type": "code",
   "execution_count": null,
   "id": "263658f7",
   "metadata": {},
   "outputs": [],
   "source": [
    "sorted_df = new_df.sort_values(by=\"Total\") # will sort the entire dataframe by the values in the Total column\n",
    "\n",
    "ax = sorted_df.plot.barh(\"Country\", [\"Bronze Medal\", \"Silver Medal\", \"Gold Medal\"], color = [\"#CD7F32\", \"silver\", \"gold\"])\n",
    "\n",
    "h, l = ax.get_legend_handles_labels()\n",
    "ax.legend(h[::-1], l[::-1]) # reverse order of legend\n",
    "\n",
    "plt.show()"
   ]
  },
  {
   "cell_type": "markdown",
   "id": "d32e11ca",
   "metadata": {},
   "source": [
    "In order to create the same plot using matplotlib, we will need to specify the location of each bar on the y-axis, plus the thickness of each bar. Note that the y-coordinate specifies where the **center** of the bar goes:"
   ]
  },
  {
   "cell_type": "code",
   "execution_count": null,
   "id": "e12feedb",
   "metadata": {},
   "outputs": [],
   "source": [
    "fig, ax = plt.subplots()\n",
    "\n",
    "y_vals_gold = [i + 0.2 for i in range(10)]\n",
    "y_vals_silver = list(range(10))\n",
    "y_vals_bronze = [i - 0.2 for i in range(10)]\n",
    "\n",
    "ax.barh(y_vals_gold, sorted_df[\"Gold Medal\"], height=0.2, color = \"gold\")\n",
    "ax.barh(y_vals_silver, sorted_df[\"Silver Medal\"], height=0.2, color = \"silver\")\n",
    "ax.barh(y_vals_bronze, sorted_df[\"Bronze Medal\"], height=0.2, color = \"#CD7F32\")\n",
    "\n",
    "plt.show()"
   ]
  },
  {
   "cell_type": "markdown",
   "id": "f44caddd",
   "metadata": {},
   "source": [
    "Another good way to specify the y-coordinates is by using the `np.arange` function from numpy:"
   ]
  },
  {
   "cell_type": "code",
   "execution_count": null,
   "id": "821e532e",
   "metadata": {},
   "outputs": [],
   "source": [
    "import numpy as np\n",
    "\n",
    "fig, ax = plt.subplots()\n",
    "\n",
    "y_vals_silver = np.arange(10) # similar to the range function\n",
    "y_vals_gold = y_vals_silver + 0.2 # easy to shift values using numpy arrays\n",
    "y_vals_bronze = y_vals_silver - 0.2\n",
    "\n",
    "ax.barh(y_vals_gold, sorted_df[\"Gold Medal\"], height=0.2, color = \"gold\")\n",
    "ax.barh(y_vals_silver, sorted_df[\"Silver Medal\"], height=0.2, color = \"silver\")\n",
    "ax.barh(y_vals_bronze, sorted_df[\"Bronze Medal\"], height=0.2, color = \"#CD7F32\")\n",
    "\n",
    "plt.show()"
   ]
  },
  {
   "cell_type": "markdown",
   "id": "9a6cc6fc",
   "metadata": {},
   "source": [
    "We can also fix the y-labels, and add in the legend:"
   ]
  },
  {
   "cell_type": "code",
   "execution_count": null,
   "id": "122259e9",
   "metadata": {},
   "outputs": [],
   "source": [
    "import numpy as np\n",
    "\n",
    "fig, ax = plt.subplots()\n",
    "\n",
    "y_vals_silver = np.arange(10) # similar to the range function\n",
    "y_vals_gold = y_vals_silver + 0.2 # easy to shift values using numpy arrays\n",
    "y_vals_bronze = y_vals_silver - 0.2\n",
    "\n",
    "ax.barh(y_vals_gold, sorted_df[\"Gold Medal\"], height=0.2, color = \"gold\", label = \"Gold\")\n",
    "ax.barh(y_vals_silver, sorted_df[\"Silver Medal\"], height=0.2, color = \"silver\", label = \"Silver\")\n",
    "ax.barh(y_vals_bronze, sorted_df[\"Bronze Medal\"], height=0.2, color = \"#CD7F32\", label = \"Bronze\")\n",
    "\n",
    "ax.set_yticks(y_vals_silver)\n",
    "ax.set_yticklabels(sorted_df[\"Country\"])\n",
    "\n",
    "ax.legend()\n",
    "\n",
    "plt.show()\n"
   ]
  },
  {
   "cell_type": "markdown",
   "id": "30d7b7b5",
   "metadata": {},
   "source": [
    "## Stacked Bar Charts\n",
    "\n",
    "Side-by-side categories might be a bit hard for comparison. We can pass in `stacked = True` to `plot.barh` to get them all on one line:"
   ]
  },
  {
   "cell_type": "code",
   "execution_count": null,
   "id": "6f0d2540",
   "metadata": {},
   "outputs": [],
   "source": [
    "sorted_df.plot.barh(\"Country\", [\"Gold Medal\", \"Silver Medal\", \"Bronze Medal\"], color = [\"gold\", \"silver\", \"#CD7F32\"], stacked = True)\n"
   ]
  },
  {
   "cell_type": "markdown",
   "id": "3824397b",
   "metadata": {},
   "source": [
    "Now we can see the total medal counts again, and we can easily compare which countries received the most gold medals (since they all begin at the axis). \n",
    "\n",
    "In order to create this chart directly from matplotlib, we will plot all three bars at the same coordinates on the y-axis. Notice what happens directly out-of-the-box:"
   ]
  },
  {
   "cell_type": "code",
   "execution_count": null,
   "id": "4187bb00",
   "metadata": {},
   "outputs": [],
   "source": [
    "fig, ax = plt.subplots()\n",
    "ax.barh(sorted_df[\"Country\"], sorted_df[\"Gold Medal\"], color = \"gold\", label = \"Gold\")\n",
    "ax.barh(sorted_df[\"Country\"], sorted_df[\"Silver Medal\"], color = \"silver\", label = \"Silver\")\n",
    "ax.barh(sorted_df[\"Country\"], sorted_df[\"Bronze Medal\"], color = \"#CD7F32\", label = \"Bronze\")\n",
    "\n",
    "ax.legend()\n",
    "\n",
    "plt.show()"
   ]
  },
  {
   "cell_type": "markdown",
   "id": "8ea714b4",
   "metadata": {},
   "source": [
    "Each subsequent bar is plotted **on top** of the previous bars! One way to fix this is add the values of the other medal counts into the subcategories. So if we want to plot gold, then silver, then bronze, we will first \n",
    "* Plot the value of bronze equal to the total medal count, then\n",
    "* Plot silver = number of golds plus number of silvers, and finally\n",
    "* Plot the gold medals with its own value on top of the rest\n",
    "\n",
    "That way the bars left on the graph will match the actual value of each subcategory:"
   ]
  },
  {
   "cell_type": "code",
   "execution_count": null,
   "id": "f3f2f645",
   "metadata": {},
   "outputs": [],
   "source": [
    "fig, ax = plt.subplots()\n",
    "ax.barh(sorted_df[\"Country\"], sorted_df[\"Bronze Medal\"] + sorted_df[\"Silver Medal\"] + sorted_df[\"Gold Medal\"], color = \"#CD7F32\", label = \"Bronze\")\n",
    "ax.barh(sorted_df[\"Country\"], sorted_df[\"Silver Medal\"] + sorted_df[\"Gold Medal\"], color = \"silver\", label = \"Silver\")\n",
    "ax.barh(sorted_df[\"Country\"], sorted_df[\"Gold Medal\"], color = \"gold\", label = \"Gold\")\n",
    "\n",
    "ax.legend()\n",
    "\n",
    "plt.show()"
   ]
  },
  {
   "cell_type": "markdown",
   "id": "c6082742",
   "metadata": {},
   "source": [
    "We can adjust the bar thickness and order of the legend as desired (default height is 0.8):"
   ]
  },
  {
   "cell_type": "code",
   "execution_count": null,
   "id": "739b5fb7",
   "metadata": {},
   "outputs": [],
   "source": [
    "fig, ax = plt.subplots()\n",
    "ax.barh(sorted_df[\"Country\"], sorted_df[\"Bronze Medal\"] + sorted_df[\"Silver Medal\"] + sorted_df[\"Gold Medal\"], height = 0.6, color = \"#CD7F32\", label = \"Bronze\")\n",
    "ax.barh(sorted_df[\"Country\"], sorted_df[\"Silver Medal\"] + sorted_df[\"Gold Medal\"], height = 0.6, color = \"silver\", label = \"Silver\")\n",
    "ax.barh(sorted_df[\"Country\"], sorted_df[\"Gold Medal\"], height = 0.6, color = \"gold\", label = \"Gold\")\n",
    "\n",
    "h, l = ax.get_legend_handles_labels()\n",
    "ax.legend(h[::-1], l[::-1]) # reverse order of legend\n",
    "\n",
    "plt.show()"
   ]
  },
  {
   "cell_type": "markdown",
   "id": "09ec6b13",
   "metadata": {},
   "source": [
    "## Multiple Bar Charts\n",
    "\n",
    "The stacked bar chart does show the total medal counts, but makes it difficult to compare categories that are not aligned along an axis. We can apply the **small multiples** approach for plotting each category in a separate chart:"
   ]
  },
  {
   "cell_type": "code",
   "execution_count": null,
   "id": "c40f82bd",
   "metadata": {},
   "outputs": [],
   "source": [
    "fig, ax = plt.subplots(1, 3)\n",
    "ax[0].barh(sorted_df[\"Country\"], sorted_df[\"Gold Medal\"], color = \"gold\")\n",
    "ax[1].barh(sorted_df[\"Country\"], sorted_df[\"Silver Medal\"], color = \"silver\")\n",
    "ax[2].barh(sorted_df[\"Country\"], sorted_df[\"Bronze Medal\"], color = \"#CD7F32\")\n",
    "plt.show()\n"
   ]
  },
  {
   "cell_type": "markdown",
   "id": "58cc00a9",
   "metadata": {},
   "source": [
    "**Notice that the values along the x-axis differ on each chart!** We need to make sure the scale is the same across all images:"
   ]
  },
  {
   "cell_type": "code",
   "execution_count": null,
   "id": "e3754dd9",
   "metadata": {},
   "outputs": [],
   "source": [
    "fig, ax = plt.subplots(1, 3)\n",
    "ax[0].barh(sorted_df[\"Country\"], sorted_df[\"Gold Medal\"], color = \"gold\")\n",
    "ax[1].barh(sorted_df[\"Country\"], sorted_df[\"Silver Medal\"], color = \"silver\")\n",
    "ax[2].barh(sorted_df[\"Country\"], sorted_df[\"Bronze Medal\"], color = \"#CD7F32\")\n",
    "\n",
    "print(ax[0].get_xlim())\n",
    "print(ax[1].get_xlim())\n",
    "print(ax[2].get_xlim())\n",
    "\n",
    "plt.show()\n"
   ]
  },
  {
   "cell_type": "markdown",
   "id": "8e8e914c",
   "metadata": {},
   "source": [
    "We will set the x-axis to range from 0 to 43.05 on each chart. Notice how this shrinks the length of the bars on the bronze chart:"
   ]
  },
  {
   "cell_type": "code",
   "execution_count": null,
   "id": "959f5ef1",
   "metadata": {},
   "outputs": [],
   "source": [
    "fig, ax = plt.subplots(1, 3)\n",
    "ax[0].barh(sorted_df[\"Country\"], sorted_df[\"Gold Medal\"], color = \"gold\")\n",
    "ax[1].barh(sorted_df[\"Country\"], sorted_df[\"Silver Medal\"], color = \"silver\")\n",
    "ax[2].barh(sorted_df[\"Country\"], sorted_df[\"Bronze Medal\"], color = \"#CD7F32\")\n",
    "\n",
    "ax[0].set_xlim(0, 43.05)\n",
    "ax[1].set_xlim(0, 43.05)\n",
    "ax[2].set_xlim(0, 43.05)\n",
    "\n",
    "plt.show()\n"
   ]
  },
  {
   "cell_type": "markdown",
   "id": "3cd1eb9d",
   "metadata": {},
   "source": [
    "Now we can remove axis lines and axis labels to yield the following:"
   ]
  },
  {
   "cell_type": "code",
   "execution_count": null,
   "id": "bc59976b",
   "metadata": {},
   "outputs": [],
   "source": [
    "fig, ax = plt.subplots(1, 3)\n",
    "ax[0].barh(sorted_df[\"Country\"], sorted_df[\"Gold Medal\"], color = \"gold\")\n",
    "ax[1].barh(sorted_df[\"Country\"], sorted_df[\"Silver Medal\"], color = \"silver\")\n",
    "ax[2].barh(sorted_df[\"Country\"], sorted_df[\"Bronze Medal\"], color = \"#CD7F32\")\n",
    "\n",
    "ax[0].set_xlim(0, 43.05)\n",
    "ax[1].set_xlim(0, 43.05)\n",
    "ax[2].set_xlim(0, 43.05)\n",
    "\n",
    "ax[0].spines[['top', 'right', 'bottom']].set_visible(False)\n",
    "ax[1].spines[['top', 'right', 'bottom']].set_visible(False)\n",
    "ax[2].spines[['top', 'right', 'bottom']].set_visible(False)\n",
    "\n",
    "ax[0].set_xticks([])\n",
    "ax[1].set_xticks([])\n",
    "ax[2].set_xticks([])\n",
    "\n",
    "ax[1].set_yticks([])\n",
    "ax[2].set_yticks([])\n",
    "\n",
    "plt.show()\n"
   ]
  },
  {
   "cell_type": "markdown",
   "id": "9dc365ae",
   "metadata": {},
   "source": [
    "Finally, add in chart labels and titles"
   ]
  },
  {
   "cell_type": "code",
   "execution_count": null,
   "id": "40a05d3a",
   "metadata": {},
   "outputs": [],
   "source": [
    "fig, ax = plt.subplots(1, 3)\n",
    "ax[0].barh(sorted_df[\"Country\"], sorted_df[\"Gold Medal\"], color = \"gold\")\n",
    "ax[1].barh(sorted_df[\"Country\"], sorted_df[\"Silver Medal\"], color = \"silver\")\n",
    "ax[2].barh(sorted_df[\"Country\"], sorted_df[\"Bronze Medal\"], color = \"#CD7F32\")\n",
    "\n",
    "ax[0].set_xlim(0, 43.05)\n",
    "ax[1].set_xlim(0, 43.05)\n",
    "ax[2].set_xlim(0, 43.05)\n",
    "\n",
    "ax[0].spines[['top', 'right', 'bottom']].set_visible(False)\n",
    "ax[1].spines[['top', 'right', 'bottom']].set_visible(False)\n",
    "ax[2].spines[['top', 'right', 'bottom']].set_visible(False)\n",
    "\n",
    "ax[0].set_xticks([])\n",
    "ax[1].set_xticks([])\n",
    "ax[2].set_xticks([])\n",
    "\n",
    "ax[1].set_yticks([])\n",
    "ax[2].set_yticks([])\n",
    "\n",
    "ax[0].text(21.525, 10, \"Gold\", horizontalalignment=\"center\", color=\"gold\")\n",
    "ax[1].text(21.525, 10, \"Silver\", horizontalalignment=\"center\", color=\"silver\")\n",
    "ax[2].text(21.525, 10, \"Bronze\", horizontalalignment=\"center\", color=\"#CD7F32\")\n",
    "\n",
    "plt.suptitle(\"Tokyo 2020:  top ten countries by total medal count\")\n",
    "\n",
    "plt.show()\n"
   ]
  },
  {
   "cell_type": "markdown",
   "id": "5bdc50d4",
   "metadata": {},
   "source": [
    "One more thing we can do is add a **total** column in our small multiples chart:"
   ]
  },
  {
   "cell_type": "code",
   "execution_count": null,
   "id": "c76f0f86",
   "metadata": {},
   "outputs": [],
   "source": [
    "fig, ax = plt.subplots(1, 4)\n",
    "ax[0].barh(sorted_df[\"Country\"], sorted_df[\"Gold Medal\"], color = \"gold\")\n",
    "ax[1].barh(sorted_df[\"Country\"], sorted_df[\"Silver Medal\"], color = \"silver\")\n",
    "ax[2].barh(sorted_df[\"Country\"], sorted_df[\"Bronze Medal\"], color = \"#CD7F32\")\n",
    "ax[3].barh(sorted_df[\"Country\"], sorted_df[\"Total\"])\n",
    "\n",
    "ax[0].set_xlim(0, 43.05)\n",
    "ax[1].set_xlim(0, 43.05)\n",
    "ax[2].set_xlim(0, 43.05)\n",
    "\n",
    "for i in range (4):\n",
    "    ax[i].spines[['top', 'right', 'bottom']].set_visible(False)\n",
    "    ax[i].set_xticks([])\n",
    "    if not i == 0:\n",
    "        ax[i].set_yticks([])\n",
    "\n",
    "ax[0].text(21.525, 10, \"Gold\", horizontalalignment=\"center\", color=\"gold\")\n",
    "ax[1].text(21.525, 10, \"Silver\", horizontalalignment=\"center\", color=\"silver\")\n",
    "ax[2].text(21.525, 10, \"Bronze\", horizontalalignment=\"center\", color=\"#CD7F32\")\n",
    "ax[3].text(62, 10, \"Total\", horizontalalignment=\"center\", color=\"tab:blue\")\n",
    "\n",
    "plt.suptitle(\"Tokyo 2020:  top ten countries by total medal count\")\n",
    "\n",
    "plt.show()\n"
   ]
  },
  {
   "cell_type": "markdown",
   "id": "6fad33a0",
   "metadata": {},
   "source": [
    "Note that the the largest total medal count is 113, whereas the largest value in a subcategory (silver medals) is just 41. Let's adjust the x-scale to be the same across all charts:"
   ]
  },
  {
   "cell_type": "code",
   "execution_count": null,
   "id": "a2d550ff",
   "metadata": {},
   "outputs": [],
   "source": [
    "fig, ax = plt.subplots(1, 4)\n",
    "ax[0].barh(sorted_df[\"Country\"], sorted_df[\"Gold Medal\"], color = \"gold\")\n",
    "ax[1].barh(sorted_df[\"Country\"], sorted_df[\"Silver Medal\"], color = \"silver\")\n",
    "ax[2].barh(sorted_df[\"Country\"], sorted_df[\"Bronze Medal\"], color = \"#CD7F32\")\n",
    "ax[3].barh(sorted_df[\"Country\"], sorted_df[\"Total\"])\n",
    "\n",
    "x_total = 115\n",
    "\n",
    "for i in range (4):\n",
    "    ax[i].set_xlim(0, x_total)\n",
    "    ax[i].spines[['top', 'right', 'bottom']].set_visible(False)\n",
    "    ax[i].set_xticks([])\n",
    "    if not i == 0:\n",
    "        ax[i].set_yticks([])\n",
    "\n",
    "ax[0].text(x_total / 2, 10, \"Gold\", horizontalalignment=\"center\", color=\"gold\")\n",
    "ax[1].text(x_total / 2, 10, \"Silver\", horizontalalignment=\"center\", color=\"silver\")\n",
    "ax[2].text(x_total / 2, 10, \"Bronze\", horizontalalignment=\"center\", color=\"#CD7F32\")\n",
    "ax[3].text(x_total / 2, 10, \"Total\", horizontalalignment=\"center\", color=\"tab:blue\")\n",
    "\n",
    "plt.suptitle(\"Tokyo 2020:  top ten countries by total medal count\")\n",
    "\n",
    "plt.show()\n"
   ]
  },
  {
   "cell_type": "markdown",
   "id": "27dba168",
   "metadata": {},
   "source": [
    "There is a lot of unused space between the first three charts (gold, silver, and bronze). We can **halve** the scale there to reduce wasted space, but then we will need to **double** the width of the total chart (set by `width_ratios` in the call to `subplots`). The imporant thing is to keep the spacing between the charts the same, and preserve the meaning of the bar lengths across all figures:"
   ]
  },
  {
   "cell_type": "code",
   "execution_count": null,
   "id": "ff5091a4",
   "metadata": {},
   "outputs": [],
   "source": [
    "fig, ax = plt.subplots(1, 4, width_ratios=[1,1,1,2]) # final plot is twice as wide as the others\n",
    "ax[0].barh(sorted_df[\"Country\"], sorted_df[\"Gold Medal\"], color = \"gold\")\n",
    "ax[1].barh(sorted_df[\"Country\"], sorted_df[\"Silver Medal\"], color = \"silver\")\n",
    "ax[2].barh(sorted_df[\"Country\"], sorted_df[\"Bronze Medal\"], color = \"#CD7F32\")\n",
    "ax[3].barh(sorted_df[\"Country\"], sorted_df[\"Total\"])\n",
    "\n",
    "x_total = 115\n",
    "\n",
    "for i in range (4):\n",
    "    ax[i].set_xlim(0, x_total / 2)\n",
    "    ax[i].spines[['top', 'right', 'bottom']].set_visible(False)\n",
    "    ax[i].set_xticks([])\n",
    "    if not i == 0:\n",
    "        ax[i].set_yticks([])\n",
    "    if i == 3:\n",
    "        ax[i].set_xlim(0, x_total)\n",
    "\n",
    "\n",
    "ax[0].text(x_total / 4, 10, \"Gold\", horizontalalignment=\"center\", color=\"gold\")\n",
    "ax[1].text(x_total / 4, 10, \"Silver\", horizontalalignment=\"center\", color=\"silver\")\n",
    "ax[2].text(x_total / 4, 10, \"Bronze\", horizontalalignment=\"center\", color=\"#CD7F32\")\n",
    "ax[3].text(x_total / 2, 10, \"Total\", horizontalalignment=\"center\", color=\"tab:blue\")\n",
    "\n",
    "plt.suptitle(\"Tokyo 2020:  top ten countries by total medal count\")\n",
    "\n",
    "plt.show()\n"
   ]
  },
  {
   "cell_type": "markdown",
   "id": "acf5e516",
   "metadata": {},
   "source": [
    "Using 115 as the max x value in the total chart, we see that 115 is just over 2.8 times the max number of silver medals. We can adjust the chart again to more closely align to this value:"
   ]
  },
  {
   "cell_type": "code",
   "execution_count": null,
   "id": "33209133",
   "metadata": {},
   "outputs": [],
   "source": [
    "fig, ax = plt.subplots(1, 4, width_ratios=[1,1,1,2.8]) # final plot is twice as wide as the others\n",
    "ax[0].barh(sorted_df[\"Country\"], sorted_df[\"Gold Medal\"], color = \"gold\")\n",
    "ax[1].barh(sorted_df[\"Country\"], sorted_df[\"Silver Medal\"], color = \"silver\")\n",
    "ax[2].barh(sorted_df[\"Country\"], sorted_df[\"Bronze Medal\"], color = \"#CD7F32\")\n",
    "ax[3].barh(sorted_df[\"Country\"], sorted_df[\"Total\"])\n",
    "\n",
    "x_total = 115\n",
    "x_reduced = x_total / 2.8\n",
    "\n",
    "for i in range (4):\n",
    "    ax[i].set_xlim(0, x_reduced)\n",
    "    ax[i].spines[['top', 'right', 'bottom']].set_visible(False)\n",
    "    ax[i].set_xticks([])\n",
    "    if not i == 0:\n",
    "        ax[i].set_yticks([])\n",
    "    if i == 3:\n",
    "        ax[i].set_xlim(0, x_total)\n",
    "\n",
    "\n",
    "ax[0].text(x_reduced / 2, 10, \"Gold\", horizontalalignment=\"center\", color=\"gold\")\n",
    "ax[1].text(x_reduced / 2, 10, \"Silver\", horizontalalignment=\"center\", color=\"silver\")\n",
    "ax[2].text(x_reduced / 2, 10, \"Bronze\", horizontalalignment=\"center\", color=\"#CD7F32\")\n",
    "ax[3].text(x_total / 2, 10, \"Total\", horizontalalignment=\"center\", color=\"tab:blue\")\n",
    "\n",
    "plt.suptitle(\"Tokyo 2020:  top ten countries by total medal count\")\n",
    "\n",
    "plt.show()\n"
   ]
  }
 ],
 "metadata": {
  "kernelspec": {
   "display_name": "Python 3 (ipykernel)",
   "language": "python",
   "name": "python3"
  },
  "language_info": {
   "codemirror_mode": {
    "name": "ipython",
    "version": 3
   },
   "file_extension": ".py",
   "mimetype": "text/x-python",
   "name": "python",
   "nbconvert_exporter": "python",
   "pygments_lexer": "ipython3",
   "version": "3.11.4"
  }
 },
 "nbformat": 4,
 "nbformat_minor": 5
}
