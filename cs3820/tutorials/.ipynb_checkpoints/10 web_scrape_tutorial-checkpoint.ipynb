{
 "cells": [
  {
   "cell_type": "markdown",
   "id": "4ff3c90f",
   "metadata": {},
   "source": [
    "## Web Scraping in Python\n",
    "\n",
    "Contributing notes:  https://realpython.com/python-web-scraping-practical-introduction/"
   ]
  },
  {
   "cell_type": "markdown",
   "id": "4cf08775",
   "metadata": {},
   "source": [
    "**Web scraping** is the process of collecting and parsing raw data from the Web\n",
    "\n",
    "Some applications\n",
    "* Price monitoring \n",
    "* Market research\n",
    "* News monitoring \n",
    "* Sentiment analysis \n",
    "\n",
    "Some websites do not want to be scraped, so it is good to check prior to working on a project!\n",
    "* https://en.wikipedia.org/wiki/Web_scraping#Legal_issues"
   ]
  },
  {
   "cell_type": "markdown",
   "id": "e1bb6533",
   "metadata": {},
   "source": [
    "### Web Scraping Basics\n",
    "\n",
    "Messages are sent and received using <b>H</b>yper<b>t</b>ext <b>T</b>ransport <b>P</b>rotocol (HTTP)\n",
    "\n",
    "Response codes\n",
    "* 200 -- OK (everything was fine)\n",
    "* 404 -- NOT FOUND\n",
    "\n",
    "Python takes care of the details of packing and unpacking HTTP messages\n",
    "\n",
    "Our first example creates a HTTP request to retrieve a website:"
   ]
  },
  {
   "cell_type": "code",
   "execution_count": 1,
   "id": "b1279fb7",
   "metadata": {},
   "outputs": [
    {
     "data": {
      "text/plain": [
       "<http.client.HTTPResponse at 0x229f47d3dc0>"
      ]
     },
     "execution_count": 1,
     "metadata": {},
     "output_type": "execute_result"
    }
   ],
   "source": [
    "from urllib.request import urlopen\n",
    "url = \"http://olympus.realpython.org/profiles/aphrodite\"\n",
    "page = urlopen(url)\n",
    "\n",
    "page"
   ]
  },
  {
   "cell_type": "markdown",
   "id": "a2332053",
   "metadata": {},
   "source": [
    "We can extract the content of the website from the HTTP response message"
   ]
  },
  {
   "cell_type": "code",
   "execution_count": 2,
   "id": "4906d983",
   "metadata": {
    "scrolled": true
   },
   "outputs": [
    {
     "name": "stdout",
     "output_type": "stream",
     "text": [
      "<html>\n",
      "<head>\n",
      "<title>Profile: Aphrodite</title>\n",
      "</head>\n",
      "<body bgcolor=\"yellow\">\n",
      "<center>\n",
      "<br><br>\n",
      "<img src=\"/static/aphrodite.gif\" />\n",
      "<h2>Name: Aphrodite</h2>\n",
      "<br><br>\n",
      "Favorite animal: Dove\n",
      "<br><br>\n",
      "Favorite color: Red\n",
      "<br><br>\n",
      "Hometown: Mount Olympus\n",
      "</center>\n",
      "</body>\n",
      "</html>\n",
      "\n"
     ]
    }
   ],
   "source": [
    "html_bytes = page.read()\n",
    "html = html_bytes.decode(\"utf-8\")\n",
    "print(html)"
   ]
  },
  {
   "cell_type": "markdown",
   "id": "d8570a83",
   "metadata": {},
   "source": [
    "Website content is written in <b>H</b>yper<b>t</b>ext <b>M</b>arkup <b>L</b>anguage\n",
    "\n",
    "Information is organized by tags (open and close). Common tags include\n",
    "* \\<head\\> contains the header information of the website\n",
    "* \\<title\\> shows the webpage title\n",
    "* \\<body\\> contains the body of the website\n",
    "* \\<h1\\>, \\<h2\\> are header tags\n",
    "* \\<p\\> creates a paragraph\n",
    "* \\<div\\> and \\<span\\> are used with <b>C</b>ascading <b>S</b>tyle <b>S</b>heets (CSS)\n",
    "\n",
    "Can process HTML in Python using string operations, but HTML is best processed using an HTML parser\n",
    "* BeautifulSoup is an HTML parser available in Python"
   ]
  },
  {
   "cell_type": "code",
   "execution_count": 3,
   "id": "8da64026",
   "metadata": {},
   "outputs": [
    {
     "name": "stdout",
     "output_type": "stream",
     "text": [
      "<html>\n",
      "<head>\n",
      "<TITLE >Profile: Dionysus</title  / >\n",
      "</head>\n",
      "<body bgcolor=\"yellow\">\n",
      "<center>\n",
      "<br><br>\n",
      "<img src=\"/static/dionysus.jpg\" />\n",
      "<h2>Name: Dionysus</h2>\n",
      "<img src=\"/static/grapes.png\"><br><br>\n",
      "Hometown: Mount Olympus\n",
      "<br><br>\n",
      "Favorite animal: Leopard <br>\n",
      "<br>\n",
      "Favorite Color: Wine\n",
      "</center>\n",
      "</body>\n",
      "</html>\n",
      "\n"
     ]
    }
   ],
   "source": [
    "from bs4 import BeautifulSoup\n",
    "from urllib.request import urlopen\n",
    "\n",
    "url = \"http://olympus.realpython.org/profiles/dionysus\"\n",
    "page = urlopen(url)\n",
    "html = page.read().decode(\"utf-8\")\n",
    "print(html)\n",
    "\n",
    "soup = BeautifulSoup(html, \"html.parser\")"
   ]
  },
  {
   "cell_type": "markdown",
   "id": "ac36c252",
   "metadata": {},
   "source": [
    "BeautifulSoup can retrieve the text written between tags:"
   ]
  },
  {
   "cell_type": "code",
   "execution_count": 4,
   "id": "0f486228",
   "metadata": {},
   "outputs": [
    {
     "name": "stdout",
     "output_type": "stream",
     "text": [
      "Profile: Dionysus\n",
      "\n",
      "\n",
      "\n",
      "\n",
      "\n",
      "Name: Dionysus\n",
      "\n",
      "Hometown: Mount Olympus\n",
      "\n",
      "Favorite animal: Leopard \n",
      "\n",
      "Favorite Color: Wine\n"
     ]
    }
   ],
   "source": [
    "print(soup.get_text().strip())"
   ]
  },
  {
   "cell_type": "markdown",
   "id": "e693b1f0",
   "metadata": {},
   "source": [
    "BeautifulSoup can grab HTML tags by their tag name"
   ]
  },
  {
   "cell_type": "code",
   "execution_count": 5,
   "id": "6506c3f1",
   "metadata": {},
   "outputs": [
    {
     "data": {
      "text/plain": [
       "[<img src=\"/static/dionysus.jpg\"/>, <img src=\"/static/grapes.png\"/>]"
      ]
     },
     "execution_count": 5,
     "metadata": {},
     "output_type": "execute_result"
    }
   ],
   "source": [
    "soup.find_all(\"img\")"
   ]
  },
  {
   "cell_type": "markdown",
   "id": "cf6828cb",
   "metadata": {},
   "source": [
    "We can now extract the attributes from each image tag"
   ]
  },
  {
   "cell_type": "code",
   "execution_count": 6,
   "id": "fe841e8f",
   "metadata": {},
   "outputs": [
    {
     "name": "stdout",
     "output_type": "stream",
     "text": [
      "/static/dionysus.jpg\n",
      "/static/grapes.png\n"
     ]
    }
   ],
   "source": [
    "image1, image2 = soup.find_all(\"img\")\n",
    "print(image1[\"src\"])\n",
    "print(image2[\"src\"])"
   ]
  },
  {
   "cell_type": "markdown",
   "id": "79d83992",
   "metadata": {},
   "source": [
    "Some tags can be accessed directly using dot notation"
   ]
  },
  {
   "cell_type": "code",
   "execution_count": 7,
   "id": "65fa9a87",
   "metadata": {},
   "outputs": [
    {
     "data": {
      "text/plain": [
       "<title>Profile: Dionysus</title>"
      ]
     },
     "execution_count": 7,
     "metadata": {},
     "output_type": "execute_result"
    }
   ],
   "source": [
    "soup.title"
   ]
  },
  {
   "cell_type": "markdown",
   "id": "c4ca1ce4",
   "metadata": {},
   "source": [
    "Text inside a tag can be accessed with the `string` attribute"
   ]
  },
  {
   "cell_type": "code",
   "execution_count": 8,
   "id": "591ee9f0",
   "metadata": {},
   "outputs": [
    {
     "data": {
      "text/plain": [
       "'Profile: Dionysus'"
      ]
     },
     "execution_count": 8,
     "metadata": {},
     "output_type": "execute_result"
    }
   ],
   "source": [
    "soup.title.string"
   ]
  },
  {
   "cell_type": "code",
   "execution_count": 9,
   "id": "c1cc0ec2",
   "metadata": {},
   "outputs": [
    {
     "data": {
      "text/plain": [
       "'Name: Dionysus'"
      ]
     },
     "execution_count": 9,
     "metadata": {},
     "output_type": "execute_result"
    }
   ],
   "source": [
    "headers = soup.find_all(\"h2\")\n",
    "headers[0].string"
   ]
  },
  {
   "cell_type": "markdown",
   "id": "790fd18a",
   "metadata": {},
   "source": [
    "You can also specify attributes in addition to tag names for your search (say you want to find how many times the same image was used)"
   ]
  },
  {
   "cell_type": "code",
   "execution_count": 10,
   "id": "75d4b6fe",
   "metadata": {},
   "outputs": [
    {
     "data": {
      "text/plain": [
       "[<img src=\"/static/dionysus.jpg\"/>]"
      ]
     },
     "execution_count": 10,
     "metadata": {},
     "output_type": "execute_result"
    }
   ],
   "source": [
    "soup.find_all(\"img\", src=\"/static/dionysus.jpg\")"
   ]
  },
  {
   "cell_type": "markdown",
   "id": "58e48694",
   "metadata": {},
   "source": [
    "<b>Example:</b>\n",
    "\n",
    "Write a program that grabs the full HTML from the page at the URL http://olympus.realpython.org/profiles.\n",
    "\n",
    "Using Beautiful Soup, print out a list of all the links on the page by looking for HTML tags with the name a and retrieving the value taken on by the href attribute of each tag."
   ]
  },
  {
   "cell_type": "code",
   "execution_count": 19,
   "id": "0b372a19",
   "metadata": {},
   "outputs": [
    {
     "name": "stdout",
     "output_type": "stream",
     "text": [
      "http://olympus.realpython.org\n",
      "http://olympus.realpython.org/profiles/aphrodite\n",
      "http://olympus.realpython.org/profiles/poseidon\n",
      "http://olympus.realpython.org/profiles/dionysus\n"
     ]
    }
   ],
   "source": [
    "from bs4 import BeautifulSoup\n",
    "from urllib.request import urlopen\n",
    "\n",
    "url = \"http://olympus.realpython.org/profiles\"\n",
    "page = urlopen(url)\n",
    "html = page.read().decode(\"utf-8\")\n",
    "# print(html)\n",
    "\n",
    "soup = BeautifulSoup(html, \"html.parser\")\n",
    "links = soup.find_all(\"a\")\n",
    "# print(links)\n",
    "\n",
    "# parts = url.rstrip(\"/profiles\")\n",
    "# print(parts)\n",
    "\n",
    "for link in links:   \n",
    "    print(url[:-9] + link[\"href\"])\n",
    "\n"
   ]
  },
  {
   "cell_type": "markdown",
   "id": "7e50b091",
   "metadata": {},
   "source": [
    "### Tutorial:  Downloading Web Pages\n",
    "\n",
    "In this section we will download and save the \"Failed Bank\" data set from https://www.fdic.gov/bank-failures/failed-bank-list . "
   ]
  },
  {
   "cell_type": "code",
   "execution_count": null,
   "id": "cecbbe2a",
   "metadata": {},
   "outputs": [],
   "source": [
    "from urllib.request import urlopen\n",
    "url = \"https://www.fdic.gov/bank-failures/failed-bank-list\"\n",
    "page = urlopen(url)\n",
    "\n",
    "html_bytes = page.read()\n",
    "html = html_bytes.decode(\"utf-8\")\n",
    "print(html)\n"
   ]
  },
  {
   "cell_type": "markdown",
   "id": "a05e85ec",
   "metadata": {},
   "source": [
    "Note that there are 58 pages, ranging from `page = 0` to `page = 57`. We can loop over these pages and save each HTML file:"
   ]
  },
  {
   "cell_type": "code",
   "execution_count": null,
   "id": "083c3666",
   "metadata": {},
   "outputs": [],
   "source": [
    "for i in range(58):\n",
    "    url = f\"https://www.fdic.gov/bank-failures/failed-bank-list?page={i}\"\n",
    "    page = urlopen(url)\n",
    "\n",
    "    html_bytes = page.read()\n",
    "    html = html_bytes.decode(\"utf-8\")\n",
    "    with open(f\"failed_bank/page_{i}.html\", \"w\", encoding=\"utf-8\") as f:\n",
    "        f.write(html)\n",
    "    if i % 10 == 9:\n",
    "        print(f\"Finished {i+1} pages\")\n"
   ]
  },
  {
   "cell_type": "markdown",
   "id": "16cdfd49",
   "metadata": {},
   "source": [
    "Once this is finished, we can load these files into Pandas:\n",
    "* `pd.read_html` is excellent at picking out the HTML `<table>` tags "
   ]
  },
  {
   "cell_type": "code",
   "execution_count": 43,
   "id": "d6ae7fbc",
   "metadata": {},
   "outputs": [
    {
     "data": {
      "text/html": [
       "<div>\n",
       "<style scoped>\n",
       "    .dataframe tbody tr th:only-of-type {\n",
       "        vertical-align: middle;\n",
       "    }\n",
       "\n",
       "    .dataframe tbody tr th {\n",
       "        vertical-align: top;\n",
       "    }\n",
       "\n",
       "    .dataframe thead th {\n",
       "        text-align: right;\n",
       "    }\n",
       "</style>\n",
       "<table border=\"1\" class=\"dataframe\">\n",
       "  <thead>\n",
       "    <tr style=\"text-align: right;\">\n",
       "      <th></th>\n",
       "      <th>Bank Name</th>\n",
       "      <th>City</th>\n",
       "      <th>State</th>\n",
       "      <th>Cert</th>\n",
       "      <th>Aquiring Institution</th>\n",
       "      <th>Closing Date</th>\n",
       "      <th>Fund  Sort ascending</th>\n",
       "    </tr>\n",
       "  </thead>\n",
       "  <tbody>\n",
       "    <tr>\n",
       "      <th>0</th>\n",
       "      <td>Pulaski Savings Bank</td>\n",
       "      <td>Chicago</td>\n",
       "      <td>Illinois</td>\n",
       "      <td>28611</td>\n",
       "      <td>Millennium Bank</td>\n",
       "      <td>January 17, 2025</td>\n",
       "      <td>10548</td>\n",
       "    </tr>\n",
       "    <tr>\n",
       "      <th>1</th>\n",
       "      <td>The First National Bank of Lindsay</td>\n",
       "      <td>Lindsay</td>\n",
       "      <td>Oklahoma</td>\n",
       "      <td>4134</td>\n",
       "      <td>First Bank &amp; Trust Co., Duncan, OK</td>\n",
       "      <td>October 18, 2024</td>\n",
       "      <td>10547</td>\n",
       "    </tr>\n",
       "    <tr>\n",
       "      <th>2</th>\n",
       "      <td>Republic First Bank dba Republic Bank</td>\n",
       "      <td>Philadelphia</td>\n",
       "      <td>Pennsylvania</td>\n",
       "      <td>27332</td>\n",
       "      <td>Fulton Bank, National Association</td>\n",
       "      <td>April 26, 2024</td>\n",
       "      <td>10546</td>\n",
       "    </tr>\n",
       "    <tr>\n",
       "      <th>3</th>\n",
       "      <td>Citizens Bank</td>\n",
       "      <td>Sac City</td>\n",
       "      <td>Iowa</td>\n",
       "      <td>8758</td>\n",
       "      <td>Iowa Trust &amp; Savings Bank</td>\n",
       "      <td>November 3, 2023</td>\n",
       "      <td>10545</td>\n",
       "    </tr>\n",
       "    <tr>\n",
       "      <th>4</th>\n",
       "      <td>Heartland Tri-State Bank</td>\n",
       "      <td>Elkhart</td>\n",
       "      <td>Kansas</td>\n",
       "      <td>25851</td>\n",
       "      <td>Dream First Bank, N.A.</td>\n",
       "      <td>July 28, 2023</td>\n",
       "      <td>10544</td>\n",
       "    </tr>\n",
       "  </tbody>\n",
       "</table>\n",
       "</div>"
      ],
      "text/plain": [
       "                               Bank Name          City         State   Cert  \\\n",
       "0                   Pulaski Savings Bank       Chicago      Illinois  28611   \n",
       "1     The First National Bank of Lindsay       Lindsay      Oklahoma   4134   \n",
       "2  Republic First Bank dba Republic Bank  Philadelphia  Pennsylvania  27332   \n",
       "3                          Citizens Bank      Sac City          Iowa   8758   \n",
       "4               Heartland Tri-State Bank       Elkhart        Kansas  25851   \n",
       "\n",
       "                 Aquiring Institution      Closing Date  Fund  Sort ascending  \n",
       "0                     Millennium Bank  January 17, 2025                 10548  \n",
       "1  First Bank & Trust Co., Duncan, OK  October 18, 2024                 10547  \n",
       "2   Fulton Bank, National Association    April 26, 2024                 10546  \n",
       "3           Iowa Trust & Savings Bank  November 3, 2023                 10545  \n",
       "4              Dream First Bank, N.A.     July 28, 2023                 10544  "
      ]
     },
     "execution_count": 43,
     "metadata": {},
     "output_type": "execute_result"
    }
   ],
   "source": [
    "import pandas as pd\n",
    "\n",
    "tables = pd.read_html(\"failed_bank/page_0.html\")\n",
    "df = tables[0]\n",
    "df.head()"
   ]
  },
  {
   "cell_type": "markdown",
   "id": "504cdd6d",
   "metadata": {},
   "source": [
    "We can use `df.concat()` to combine all files together into one dataframe:"
   ]
  },
  {
   "cell_type": "code",
   "execution_count": 44,
   "id": "dc14c4b8",
   "metadata": {},
   "outputs": [
    {
     "name": "stdout",
     "output_type": "stream",
     "text": [
      "<class 'pandas.core.frame.DataFrame'>\n",
      "Int64Index: 571 entries, 0 to 0\n",
      "Data columns (total 7 columns):\n",
      " #   Column                Non-Null Count  Dtype \n",
      "---  ------                --------------  ----- \n",
      " 0   Bank Name             571 non-null    object\n",
      " 1   City                  571 non-null    object\n",
      " 2   State                 571 non-null    object\n",
      " 3   Cert                  571 non-null    int64 \n",
      " 4   Aquiring Institution  571 non-null    object\n",
      " 5   Closing Date          571 non-null    object\n",
      " 6   Fund  Sort ascending  571 non-null    int64 \n",
      "dtypes: int64(2), object(5)\n",
      "memory usage: 35.7+ KB\n"
     ]
    }
   ],
   "source": [
    "for i in range(1, 58):\n",
    "    tables = pd.read_html(f\"failed_bank/page_{i}.html\")\n",
    "    new_df = tables[0]\n",
    "    df = pd.concat([df, new_df])\n",
    "    \n",
    "df.info()"
   ]
  },
  {
   "cell_type": "markdown",
   "id": "0c92ae34",
   "metadata": {},
   "source": [
    "Let's take a look at the distribution of failed banks per year (since 2000):"
   ]
  },
  {
   "cell_type": "code",
   "execution_count": 45,
   "id": "170af931",
   "metadata": {},
   "outputs": [
    {
     "data": {
      "image/png": "[encoded data removed]",
      "text/plain": [
       "<Figure size 640x480 with 1 Axes>"
      ]
     },
     "metadata": {},
     "output_type": "display_data"
    }
   ],
   "source": [
    "import matplotlib.pyplot as plt\n",
    "import seaborn as sns\n",
    "\n",
    "# Extract year only\n",
    "df[\"closing_year\"] = df[\"Closing Date\"].apply(lambda x:  int(x.split()[-1]))\n",
    "\n",
    "fig, ax = plt.subplots()\n",
    "\n",
    "sns.histplot(df[\"closing_year\"], bins=range(2000, 2026), ax=ax, discrete = True)\n",
    "\n",
    "plt.show()"
   ]
  },
  {
   "cell_type": "markdown",
   "id": "1f909bf0",
   "metadata": {},
   "source": [
    "For historical reference, see https://en.wikipedia.org/wiki/2008_financial_crisis "
   ]
  },
  {
   "cell_type": "markdown",
   "id": "b06b2c1f",
   "metadata": {},
   "source": [
    "### Websites with Dynamic Content\n",
    "\n",
    "Most modern websites do not write everything in \"static\" HTML. Much of the web content is generated when the page is loaded using JavaScript. Python HTTP requests do not wait long enough for dynamic content to be generated.\n",
    "\n",
    "\n",
    "For example, look at the following website: https://cs-people.bu.edu/ncordner/web_scrape_example/\n",
    "\n",
    "And now look at what is returned by Python's HTTP request:\n"
   ]
  },
  {
   "cell_type": "code",
   "execution_count": 20,
   "id": "de76b3a9",
   "metadata": {},
   "outputs": [
    {
     "name": "stdout",
     "output_type": "stream",
     "text": [
      "<html>\n",
      "<head>\n",
      "<title>Web Scrape Example</title>\n",
      "<script src=\"write_page.js\"></script>\n",
      "</head>\n",
      "<body id = \"body\" onLoad=\"writePage()\">\n",
      "\n",
      "</body>\n",
      "</html>\n",
      "\n"
     ]
    }
   ],
   "source": [
    "from bs4 import BeautifulSoup\n",
    "from urllib.request import urlopen\n",
    "\n",
    "url = \"https://cs-people.bu.edu/ncordner/web_scrape_example/\"\n",
    "page = urlopen(url)\n",
    "html = page.read().decode(\"utf-8\")\n",
    "print(html)"
   ]
  },
  {
   "cell_type": "markdown",
   "id": "ec1ee1c3",
   "metadata": {},
   "source": [
    "None of the text appearing on the webpage made it into the body of the HTML document returned! An alternative approach is to use a web browser through Python, and wait for the dynamic content to be rendered.\n",
    "\n",
    "Here we will use Google Chrome through the `selenium` module:"
   ]
  },
  {
   "cell_type": "code",
   "execution_count": 21,
   "id": "46929edc",
   "metadata": {},
   "outputs": [
    {
     "name": "stdout",
     "output_type": "stream",
     "text": [
      "Success!\n",
      "<html><head>\n",
      "<title>Web Scrape Example</title>\n",
      "<script src=\"write_page.js\"></script>\n",
      "</head>\n",
      "<body id=\"body\" onload=\"writePage()\"><h1> Welcome to my Website!</h1>\n",
      "<p>This is paragraph 1.</p>\n",
      "<p>This is paragraph 2.</p>\n",
      "<p>This is paragraph 3.</p>\n",
      "<p>This is paragraph 4.</p>\n",
      "<p>This is paragraph 5.</p>\n",
      "</body></html>\n"
     ]
    }
   ],
   "source": [
    "from bs4 import BeautifulSoup\n",
    "from selenium import webdriver\n",
    "\n",
    "from selenium.webdriver.support.ui import WebDriverWait\n",
    "from selenium.webdriver.support import expected_conditions as EC\n",
    "from selenium.webdriver.common.by import By\n",
    "from selenium.common.exceptions import TimeoutException\n",
    "\n",
    "url = \"https://cs-people.bu.edu/ncordner/web_scrape_example/\"\n",
    "\n",
    "browser = webdriver.Chrome()\n",
    "browser.get(url)\n",
    "delay = 1 # 1 second\n",
    "try:\n",
    "    # check if javascript is loaded\n",
    "    WebDriverWait(browser, delay).until(EC.presence_of_element_located((By.TAG_NAME, 'h1')))\n",
    "except TimeoutException:\n",
    "    print(\"Not found.\")\n",
    "else:\n",
    "    print(\"Success!\")\n",
    "        \n",
    "html = browser.page_source\n",
    "print(html)"
   ]
  },
  {
   "cell_type": "markdown",
   "id": "edc1c17f",
   "metadata": {},
   "source": [
    "Having the browser pop up while you're running your code might be a little annoying. You can choose to run the browser in \"headless\" mode instead. Be sure to call `browser.close()` when you're done!"
   ]
  },
  {
   "cell_type": "code",
   "execution_count": 22,
   "id": "1b0524ac",
   "metadata": {},
   "outputs": [
    {
     "name": "stdout",
     "output_type": "stream",
     "text": [
      "Success!\n",
      "<html><head>\n",
      "<title>Web Scrape Example</title>\n",
      "<script src=\"write_page.js\"></script>\n",
      "</head>\n",
      "<body id=\"body\" onload=\"writePage()\"><h1> Welcome to my Website!</h1>\n",
      "<p>This is paragraph 1.</p>\n",
      "<p>This is paragraph 2.</p>\n",
      "<p>This is paragraph 3.</p>\n",
      "<p>This is paragraph 4.</p>\n",
      "<p>This is paragraph 5.</p>\n",
      "</body></html>\n"
     ]
    }
   ],
   "source": [
    "from bs4 import BeautifulSoup\n",
    "from selenium import webdriver\n",
    "\n",
    "from selenium.webdriver.support.ui import WebDriverWait\n",
    "from selenium.webdriver.support import expected_conditions as EC\n",
    "from selenium.webdriver.common.by import By\n",
    "from selenium.common.exceptions import TimeoutException\n",
    "from selenium.webdriver.chrome.options import Options\n",
    "\n",
    "url = \"https://cs-people.bu.edu/ncordner/web_scrape_example/\"\n",
    "\n",
    "# Run Chrome in headless mode\n",
    "options = Options()\n",
    "options.add_argument(\"--headless=new\")\n",
    "browser = webdriver.Chrome(options=options)\n",
    "\n",
    "browser.get(url)\n",
    "delay = 1 # 1 second\n",
    "try:\n",
    "    # check if javascript is loaded\n",
    "    WebDriverWait(browser, delay).until(EC.presence_of_element_located((By.TAG_NAME, 'h1')))\n",
    "except TimeoutException:\n",
    "    print(\"Not found.\")\n",
    "else:\n",
    "    print(\"Success!\")\n",
    "        \n",
    "html = browser.page_source\n",
    "print(html)\n",
    "\n",
    "browser.close()"
   ]
  },
  {
   "cell_type": "markdown",
   "id": "9d6328e7",
   "metadata": {},
   "source": [
    "### Tutorial:  Search the Classified Ads\n",
    "\n",
    "KSL is a local news website. It has a section for listing items for sale at https://classifieds.ksl.com/\n",
    "\n",
    "Suppose you run a local music shop, and you're interested in tracking and analyzing the prices of musical instruments beings sold by nearby private sellers. \n",
    "\n",
    "Let's build a web scraper to collect some basic information about KSL's instrument listings. We need a few things to get started:\n",
    "* What links does the website generate when you type in a search term?\n",
    "* What HTML elements on the page contain the information we're interested in?\n",
    "* Where can we find information about how many results / pages are included in our search?\n",
    "\n",
    "For example, type in the keyword \"saxophone\" into the search. The results are displayed at https://classifieds.ksl.com/search/keyword/saxophone\n",
    "* Note that the keyword appears at the end of the URL (we can customize our input keyword later)\n",
    "\n",
    "Let's start by getting the content of this page:\n",
    "* Note that I'm not using headless Chrome in this example, since it was causing an error...\n"
   ]
  },
  {
   "cell_type": "code",
   "execution_count": 1,
   "id": "f88713e9",
   "metadata": {},
   "outputs": [
    {
     "name": "stdout",
     "output_type": "stream",
     "text": [
      "Success!\n"
     ]
    }
   ],
   "source": [
    "from bs4 import BeautifulSoup\n",
    "from selenium import webdriver\n",
    "\n",
    "from selenium.webdriver.support.ui import WebDriverWait\n",
    "from selenium.webdriver.support import expected_conditions as EC\n",
    "from selenium.webdriver.common.by import By\n",
    "from selenium.common.exceptions import TimeoutException\n",
    "\n",
    "url = \"https://classifieds.ksl.com/search/keyword/saxophone\"\n",
    "browser = webdriver.Chrome()\n",
    "\n",
    "browser.get(url)\n",
    "delay = 1 # 1 second\n",
    "try:\n",
    "    # check if javascript is loaded\n",
    "    WebDriverWait(browser, delay).until(EC.presence_of_element_located((By.ID, 'search-results')))\n",
    "except TimeoutException:\n",
    "    print(\"Not found.\")\n",
    "else:\n",
    "    print(\"Success!\")\n",
    "        \n",
    "html = browser.page_source\n",
    "# print(html)\n",
    "\n",
    "browser.close()\n"
   ]
  },
  {
   "cell_type": "markdown",
   "id": "34dcdf13",
   "metadata": {},
   "source": [
    "In your browser, right-click on any listing to \"inspect\" the page source. It looks like much of the key information about each listing is contained within a `<div class = \"listing-item-info\">` tag."
   ]
  },
  {
   "cell_type": "code",
   "execution_count": 2,
   "id": "cae01cc6",
   "metadata": {},
   "outputs": [
    {
     "name": "stdout",
     "output_type": "stream",
     "text": [
      "<div class=\"listing-item-info\"><h2 class=\"item-info-title info-line\"><div class=\"item-info-title-link\"><a href=\"/listing/77617296\">ROCK 'N ROLL SONGBOOK ~ 1955-1966 ~ ALTO SAXOPHONE ~ 95 SONGS</a></div></h2><div class=\"item-info-price info-line\">$5.00</div><div class=\"item-info-price info-line\"></div><div class=\"item-detail info-line\"><a class=\"item-address\" href=\"/search/city/Plain City/UT\">Plain City, UT</a>  | <span class=\"timeOnSite\">15 hours</span></div><div class=\"item-description info-line\"><span width=\"0\"><span><span>This Songbook is from</span><br/><span>a smoke free home. </span><br/><span><span>Questions???  P<span>...<span class=\"item-description-link link\"><a href=\"/listing/77617296\">more</a></span></span></span></span></span><span style=\"position: fixed; visibility: hidden; top: 0px; left: 0px;\"><span>...<span class=\"item-description-link link\"><a href=\"/listing/77617296\">more</a></span></span></span></span></div><div class=\"listing-item-stats\"><span class=\"item-stats-views\" title=\"Viewed\"><span class=\"eye icon-container\"><svg class=\"icon\"><use xlink:href=\"#eye\"></use></svg></span><span>25</span></span><span class=\"item-stats-favorited\" title=\"Favorited\"><span class=\"heart icon-container\"><svg class=\"icon\"><use xlink:href=\"#heart-weighted\"></use></svg></span><span>1</span></span></div></div>\n"
     ]
    }
   ],
   "source": [
    "soup = BeautifulSoup(html, \"html.parser\")\n",
    "items = soup.find_all(\"div\", \"listing-item-info\")\n",
    "print(items[0])"
   ]
  },
  {
   "cell_type": "markdown",
   "id": "47a4a98a",
   "metadata": {},
   "source": [
    "Suppose we want to keep the name, price, and listing ID (contained in the link). \n",
    "* The name and ID are contained in `<div class=\"item-info-title-link\">`\n",
    "* The price is contained in `<div class=\"item-info-price info-line\">`"
   ]
  },
  {
   "cell_type": "code",
   "execution_count": 3,
   "id": "d870a7d5",
   "metadata": {},
   "outputs": [
    {
     "name": "stdout",
     "output_type": "stream",
     "text": [
      "[<div class=\"item-info-title-link\"><a href=\"/listing/77617296\">ROCK 'N ROLL SONGBOOK ~ 1955-1966 ~ ALTO SAXOPHONE ~ 95 SONGS</a></div>]\n",
      "[<a href=\"/listing/77617296\">ROCK 'N ROLL SONGBOOK ~ 1955-1966 ~ ALTO SAXOPHONE ~ 95 SONGS</a>]\n",
      "ROCK 'N ROLL SONGBOOK ~ 1955-1966 ~ ALTO SAXOPHONE ~ 95 SONGS\n",
      "77617296\n",
      "\n",
      "[<div class=\"item-info-price info-line\">$5.00</div>, <div class=\"item-info-price info-line\"></div>]\n",
      "$5.00\n"
     ]
    }
   ],
   "source": [
    "first_item = items[0]\n",
    "info1 = first_item.find_all(\"div\", \"item-info-title-link\")\n",
    "print(info1)\n",
    "\n",
    "info1 = info1[0].find_all(\"a\")\n",
    "print(info1)\n",
    "\n",
    "print(info1[0].string)                 # Title\n",
    "print(info1[0]['href'].split('/')[-1]) # ID\n",
    "\n",
    "print()\n",
    "\n",
    "info2 = first_item.find_all(\"div\", \"item-info-price info-line\")\n",
    "print(info2)\n",
    "print(info2[0].string) # Price\n"
   ]
  },
  {
   "cell_type": "markdown",
   "id": "c95e3e14",
   "metadata": {},
   "source": [
    "Let's package this code into a function, and loop over all results in the page:"
   ]
  },
  {
   "cell_type": "code",
   "execution_count": 4,
   "id": "3bbd18ad",
   "metadata": {},
   "outputs": [
    {
     "name": "stdout",
     "output_type": "stream",
     "text": [
      "77617296: ROCK 'N ROLL SONGBOOK ~ 1955-1966 ~ ALTO SAXOPHONE ~ 95 SONGS, $5.00\n",
      "77876516: CONN SAXOPHONE, $125.00\n",
      "77971361: King H N White Saxophone 77584, $3,500.00\n",
      "77707140: Yamaha Alto Saxophone with Warranty, $625.00\n",
      "77975196: Yamaha Tenor Saxophone, $775.00\n",
      "77975185: Yamaha Alto Saxophone with Warranty, $650.00\n",
      "76319354: Used Eastman Saxophone, $1,350.00\n",
      "77974388: 1926 Buescher True Tone Soprano Saxophone, $1,900.00\n",
      "77974365: JodyJazz DV 7 Alto Saxophone Mouthpiece, $500.00\n",
      "77974340: JodyJazz DV 7 Tenor Saxophone Mouthpiece, $600.00\n",
      "77972188: Selmer 300 series Saxophone, $200.00\n",
      "77299794: 3 Piece Splash Saxophone Painting, Artwork, Poster, $20.00\n",
      "76884858: Yamaha Tenor Saxophone - 52, $1,900.00\n",
      "77391937: Yanagisawa Soprano Saxophone Mouthpiece, $129.00\n",
      "76915289: Professional Alto Saxophone, $1,000.00\n",
      "77743206: ALLORA AAS-250 STUDENT SERIES ALTO SAXOPHONE LACQUER, $739.00\n",
      "76928080: ANTIGUA VOSI 2150 ALTO STUDENT SAXOPHONE WITH MOUHTPIECE & HARD CASE, $599.00\n",
      "74500174: FRANCOIS LOUIS SPECTRUOSO SAXOPHONE MOUHTPIECE Bb TENOR, $269.00\n",
      "61662921: 1949 KING SUPER 20 TENOR SAXOPHONE, $4,250.00\n",
      "76950077: Saxophone book, stand, cleaner, $40.00\n",
      "77954853: Alto Saxophone, $350.00\n",
      "77666165: Looking for free saxophones, $1.00\n",
      "77946813: King Zephyr Professional Tenor Saxophone 1952, $3,999.00\n",
      "77187279: ACCENT Alto Saxophone, $675.00\n"
     ]
    }
   ],
   "source": [
    "def get_info(item):\n",
    "    info1 = item.find_all(\"div\", \"item-info-title-link\")\n",
    "    info1 = info1[0].find_all(\"a\")\n",
    "    title = info1[0].string\n",
    "    ID = info1[0]['href'].split('/')[-1]\n",
    "\n",
    "    info2 = item.find_all(\"div\", \"item-info-price info-line\")\n",
    "    price = info2[0].string\n",
    "    \n",
    "    return ID, title, price\n",
    "\n",
    "for item in items:\n",
    "    ID, title, price = get_info(item)\n",
    "    print(f\"{ID}: {title}, {price}\")"
   ]
  },
  {
   "cell_type": "markdown",
   "id": "a3b8478f",
   "metadata": {},
   "source": [
    "Now we can put this information into a Pandas data frame for storage and analysis"
   ]
  },
  {
   "cell_type": "code",
   "execution_count": 5,
   "id": "5b4109ab",
   "metadata": {},
   "outputs": [
    {
     "data": {
      "text/html": [
       "<div>\n",
       "<style scoped>\n",
       "    .dataframe tbody tr th:only-of-type {\n",
       "        vertical-align: middle;\n",
       "    }\n",
       "\n",
       "    .dataframe tbody tr th {\n",
       "        vertical-align: top;\n",
       "    }\n",
       "\n",
       "    .dataframe thead th {\n",
       "        text-align: right;\n",
       "    }\n",
       "</style>\n",
       "<table border=\"1\" class=\"dataframe\">\n",
       "  <thead>\n",
       "    <tr style=\"text-align: right;\">\n",
       "      <th></th>\n",
       "      <th>title</th>\n",
       "      <th>price</th>\n",
       "    </tr>\n",
       "    <tr>\n",
       "      <th>id</th>\n",
       "      <th></th>\n",
       "      <th></th>\n",
       "    </tr>\n",
       "  </thead>\n",
       "  <tbody>\n",
       "    <tr>\n",
       "      <th>77666165</th>\n",
       "      <td>Looking for free saxophones</td>\n",
       "      <td>$1.00</td>\n",
       "    </tr>\n",
       "    <tr>\n",
       "      <th>77617296</th>\n",
       "      <td>ROCK 'N ROLL SONGBOOK ~ 1955-1966 ~ ALTO SAXOP...</td>\n",
       "      <td>$5.00</td>\n",
       "    </tr>\n",
       "    <tr>\n",
       "      <th>77299794</th>\n",
       "      <td>3 Piece Splash Saxophone Painting, Artwork, Po...</td>\n",
       "      <td>$20.00</td>\n",
       "    </tr>\n",
       "    <tr>\n",
       "      <th>76950077</th>\n",
       "      <td>Saxophone book, stand, cleaner</td>\n",
       "      <td>$40.00</td>\n",
       "    </tr>\n",
       "    <tr>\n",
       "      <th>77876516</th>\n",
       "      <td>CONN SAXOPHONE</td>\n",
       "      <td>$125.00</td>\n",
       "    </tr>\n",
       "    <tr>\n",
       "      <th>77391937</th>\n",
       "      <td>Yanagisawa Soprano Saxophone Mouthpiece</td>\n",
       "      <td>$129.00</td>\n",
       "    </tr>\n",
       "    <tr>\n",
       "      <th>77972188</th>\n",
       "      <td>Selmer 300 series Saxophone</td>\n",
       "      <td>$200.00</td>\n",
       "    </tr>\n",
       "    <tr>\n",
       "      <th>74500174</th>\n",
       "      <td>FRANCOIS LOUIS SPECTRUOSO SAXOPHONE MOUHTPIECE...</td>\n",
       "      <td>$269.00</td>\n",
       "    </tr>\n",
       "    <tr>\n",
       "      <th>77954853</th>\n",
       "      <td>Alto Saxophone</td>\n",
       "      <td>$350.00</td>\n",
       "    </tr>\n",
       "    <tr>\n",
       "      <th>77974365</th>\n",
       "      <td>JodyJazz DV 7 Alto Saxophone Mouthpiece</td>\n",
       "      <td>$500.00</td>\n",
       "    </tr>\n",
       "    <tr>\n",
       "      <th>76928080</th>\n",
       "      <td>ANTIGUA VOSI 2150 ALTO STUDENT SAXOPHONE WITH ...</td>\n",
       "      <td>$599.00</td>\n",
       "    </tr>\n",
       "    <tr>\n",
       "      <th>77974340</th>\n",
       "      <td>JodyJazz DV 7 Tenor Saxophone Mouthpiece</td>\n",
       "      <td>$600.00</td>\n",
       "    </tr>\n",
       "    <tr>\n",
       "      <th>77707140</th>\n",
       "      <td>Yamaha Alto Saxophone with Warranty</td>\n",
       "      <td>$625.00</td>\n",
       "    </tr>\n",
       "    <tr>\n",
       "      <th>77975185</th>\n",
       "      <td>Yamaha Alto Saxophone with Warranty</td>\n",
       "      <td>$650.00</td>\n",
       "    </tr>\n",
       "    <tr>\n",
       "      <th>77187279</th>\n",
       "      <td>ACCENT Alto Saxophone</td>\n",
       "      <td>$675.00</td>\n",
       "    </tr>\n",
       "    <tr>\n",
       "      <th>77743206</th>\n",
       "      <td>ALLORA AAS-250 STUDENT SERIES ALTO SAXOPHONE L...</td>\n",
       "      <td>$739.00</td>\n",
       "    </tr>\n",
       "    <tr>\n",
       "      <th>77975196</th>\n",
       "      <td>Yamaha Tenor Saxophone</td>\n",
       "      <td>$775.00</td>\n",
       "    </tr>\n",
       "    <tr>\n",
       "      <th>76915289</th>\n",
       "      <td>Professional Alto Saxophone</td>\n",
       "      <td>$1,000.00</td>\n",
       "    </tr>\n",
       "    <tr>\n",
       "      <th>76319354</th>\n",
       "      <td>Used Eastman Saxophone</td>\n",
       "      <td>$1,350.00</td>\n",
       "    </tr>\n",
       "    <tr>\n",
       "      <th>77974388</th>\n",
       "      <td>1926 Buescher True Tone Soprano Saxophone</td>\n",
       "      <td>$1,900.00</td>\n",
       "    </tr>\n",
       "    <tr>\n",
       "      <th>76884858</th>\n",
       "      <td>Yamaha Tenor Saxophone - 52</td>\n",
       "      <td>$1,900.00</td>\n",
       "    </tr>\n",
       "    <tr>\n",
       "      <th>77971361</th>\n",
       "      <td>King H N White Saxophone 77584</td>\n",
       "      <td>$3,500.00</td>\n",
       "    </tr>\n",
       "    <tr>\n",
       "      <th>77946813</th>\n",
       "      <td>King Zephyr Professional Tenor Saxophone 1952</td>\n",
       "      <td>$3,999.00</td>\n",
       "    </tr>\n",
       "    <tr>\n",
       "      <th>61662921</th>\n",
       "      <td>1949 KING SUPER 20 TENOR SAXOPHONE</td>\n",
       "      <td>$4,250.00</td>\n",
       "    </tr>\n",
       "  </tbody>\n",
       "</table>\n",
       "</div>"
      ],
      "text/plain": [
       "                                                      title      price\n",
       "id                                                                    \n",
       "77666165                        Looking for free saxophones      $1.00\n",
       "77617296  ROCK 'N ROLL SONGBOOK ~ 1955-1966 ~ ALTO SAXOP...      $5.00\n",
       "77299794  3 Piece Splash Saxophone Painting, Artwork, Po...     $20.00\n",
       "76950077                     Saxophone book, stand, cleaner     $40.00\n",
       "77876516                                     CONN SAXOPHONE    $125.00\n",
       "77391937            Yanagisawa Soprano Saxophone Mouthpiece    $129.00\n",
       "77972188                        Selmer 300 series Saxophone    $200.00\n",
       "74500174  FRANCOIS LOUIS SPECTRUOSO SAXOPHONE MOUHTPIECE...    $269.00\n",
       "77954853                                     Alto Saxophone    $350.00\n",
       "77974365            JodyJazz DV 7 Alto Saxophone Mouthpiece    $500.00\n",
       "76928080  ANTIGUA VOSI 2150 ALTO STUDENT SAXOPHONE WITH ...    $599.00\n",
       "77974340           JodyJazz DV 7 Tenor Saxophone Mouthpiece    $600.00\n",
       "77707140                Yamaha Alto Saxophone with Warranty    $625.00\n",
       "77975185                Yamaha Alto Saxophone with Warranty    $650.00\n",
       "77187279                              ACCENT Alto Saxophone    $675.00\n",
       "77743206  ALLORA AAS-250 STUDENT SERIES ALTO SAXOPHONE L...    $739.00\n",
       "77975196                             Yamaha Tenor Saxophone    $775.00\n",
       "76915289                        Professional Alto Saxophone  $1,000.00\n",
       "76319354                             Used Eastman Saxophone  $1,350.00\n",
       "77974388          1926 Buescher True Tone Soprano Saxophone  $1,900.00\n",
       "76884858                        Yamaha Tenor Saxophone - 52  $1,900.00\n",
       "77971361                     King H N White Saxophone 77584  $3,500.00\n",
       "77946813      King Zephyr Professional Tenor Saxophone 1952  $3,999.00\n",
       "61662921                 1949 KING SUPER 20 TENOR SAXOPHONE  $4,250.00"
      ]
     },
     "execution_count": 5,
     "metadata": {},
     "output_type": "execute_result"
    }
   ],
   "source": [
    "import pandas as pd\n",
    "\n",
    "item_list = []\n",
    "\n",
    "for item in items:\n",
    "    ID, title, price = get_info(item)\n",
    "    item_list.append([ID, title, price])\n",
    "    \n",
    "item_list.sort(key= lambda x: float(x[2][1:].replace(\",\",\"\")))\n",
    "\n",
    "saxophones = pd.DataFrame(item_list)\n",
    "# Format the data frame\n",
    "saxophones.columns = [\"id\", \"title\", \"price\"]\n",
    "saxophones.index = saxophones.id\n",
    "saxophones = saxophones.drop([\"id\"], axis=1)\n",
    "# Dispaly the data frame\n",
    "saxophones"
   ]
  },
  {
   "cell_type": "markdown",
   "id": "3884cb75",
   "metadata": {},
   "source": [
    "To finish this example, we would need to loop over the pages of results obtained from our search term. \n",
    "\n",
    "We may also want to filter out certain results (like Saxophone ornaments or accessories), do data analysis, output the data and analysis results to a file, and repeat for other search terms. \n",
    "\n",
    "Here is a basic visualization of the search results:"
   ]
  },
  {
   "cell_type": "code",
   "execution_count": 39,
   "id": "a5879279",
   "metadata": {},
   "outputs": [
    {
     "data": {
      "image/png": "[encoded data removed]",
      "text/plain": [
       "<Figure size 640x480 with 1 Axes>"
      ]
     },
     "metadata": {},
     "output_type": "display_data"
    }
   ],
   "source": [
    "import matplotlib.pyplot as plt\n",
    "import seaborn as sns\n",
    "\n",
    "saxophones[\"price_num\"] = saxophones[\"price\"].apply(lambda x:  float(x.replace(\"$\", \"\").replace(\",\", \"\")))\n",
    "\n",
    "fig, ax = plt.subplots()\n",
    "\n",
    "sns.histplot(saxophones[\"price_num\"], bins=range(0, 4500, 250), ax=ax)\n",
    "\n",
    "plt.show()"
   ]
  }
 ],
 "metadata": {
  "kernelspec": {
   "display_name": "Python 3 (ipykernel)",
   "language": "python",
   "name": "python3"
  },
  "language_info": {
   "codemirror_mode": {
    "name": "ipython",
    "version": 3
   },
   "file_extension": ".py",
   "mimetype": "text/x-python",
   "name": "python",
   "nbconvert_exporter": "python",
   "pygments_lexer": "ipython3",
   "version": "3.11.4"
  }
 },
 "nbformat": 4,
 "nbformat_minor": 5
}
