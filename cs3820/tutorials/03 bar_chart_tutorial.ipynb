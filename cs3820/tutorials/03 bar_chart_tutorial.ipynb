{
 "cells": [
  {
   "cell_type": "markdown",
   "id": "fc8bac4f",
   "metadata": {},
   "source": [
    "# Bar Charts\n",
    "\n",
    "In this tutorial we will visualize medal counts from the 2021 Summer Olympics in Tokyo, Japan. \n",
    "* The data for this tutorial is available at https://www.kaggle.com/datasets/berkayalan/2021-olympics-medals-in-tokyo\n",
    "* Tutorial is partly adapted from https://www.youtube.com/watch?v=trMfzrun9FA\n",
    "\n",
    "To get started we will import pandas and pyplot, and read in the data set."
   ]
  },
  {
   "cell_type": "code",
   "execution_count": null,
   "id": "bd71b46d",
   "metadata": {},
   "outputs": [],
   "source": [
    "# imports\n",
    "\n",
    "import pandas as pd\n",
    "import matplotlib.pyplot as plt"
   ]
  },
  {
   "cell_type": "code",
   "execution_count": null,
   "id": "6ac26a12",
   "metadata": {},
   "outputs": [],
   "source": [
    "# read in data\n",
    "\n",
    "df = pd.read_csv(\"tokyo_medals_2021.csv\")\n",
    "df.head()"
   ]
  },
  {
   "cell_type": "markdown",
   "id": "e42bf7e8",
   "metadata": {},
   "source": [
    "We can use the `plot` method from pandas to create an initial bar chart to explore the data:"
   ]
  },
  {
   "cell_type": "code",
   "execution_count": null,
   "id": "93d3815d",
   "metadata": {},
   "outputs": [],
   "source": [
    "# Initial chart\n",
    "\n",
    "df.plot.bar(\"Country\", \"Total\")"
   ]
  },
  {
   "cell_type": "markdown",
   "id": "fb0ae79f",
   "metadata": {},
   "source": [
    "<b>What issues does this chart have?</b>\n",
    "\n",
    "Some problems include:\n",
    "* Too many countries \n",
    "* Can't read labels \n",
    "* Most of the picture is blank\n",
    "\n",
    "Another thing to consider:  what story are we trying to tell?"
   ]
  },
  {
   "cell_type": "markdown",
   "id": "1588a673",
   "metadata": {},
   "source": [
    "## Question:  Which countries received the most medals?\n",
    "\n",
    "Suppose we want to meausre a country's success by their total medal count, and compare how various countries performed in the Olympics. For now, let's just focus on the top 10 countries by medal count:"
   ]
  },
  {
   "cell_type": "code",
   "execution_count": null,
   "id": "caf98278",
   "metadata": {},
   "outputs": [],
   "source": [
    "top_ten = df[\"Rank By Total\"] <= 10  # Filtering criterion\n",
    "new_df = df[top_ten]  # Create new data frame based on filtering criterion\n",
    "\n",
    "new_df.plot.bar(\"Country\", \"Total\")"
   ]
  },
  {
   "cell_type": "markdown",
   "id": "64459431",
   "metadata": {},
   "source": [
    "<b>One problem</b>:  the country labels are hard to read! Let's rotate the chart using `barh`:"
   ]
  },
  {
   "cell_type": "code",
   "execution_count": null,
   "id": "dca7217f",
   "metadata": {},
   "outputs": [],
   "source": [
    "new_df.plot.barh(\"Country\", \"Total\")"
   ]
  },
  {
   "cell_type": "markdown",
   "id": "419d066e",
   "metadata": {},
   "source": [
    "So far so good, but to make things easier we will now transfer over to using a `matplotlib` subfigure (yes, this can all be called directly from Pandas, but might be harder to read!). The formatting will look a little different:\n",
    "* `plt.subplots()` is another way of generating Axes objects, and can be used to create many of them at once\n",
    "* https://matplotlib.org/stable/api/_as_gen/matplotlib.pyplot.subplots.html"
   ]
  },
  {
   "cell_type": "code",
   "execution_count": null,
   "id": "84aecf19",
   "metadata": {},
   "outputs": [],
   "source": [
    "fig, ax = plt.subplots()\n",
    "bars = ax.barh(new_df[\"Country\"], new_df[\"Total\"])\n",
    "\n",
    "plt.show()"
   ]
  },
  {
   "cell_type": "markdown",
   "id": "0f4406d5",
   "metadata": {},
   "source": [
    "<b>Another problem</b>: it would be nice to see totals in sorted order, descending from greatest to least. We can sort the data frame and replot:"
   ]
  },
  {
   "cell_type": "code",
   "execution_count": null,
   "id": "6ffeff20",
   "metadata": {},
   "outputs": [],
   "source": [
    "sorted_df = new_df.sort_values(by=\"Total\") # will sort the entire dataframe by the values in the Total column\n",
    "\n",
    "fig, ax = plt.subplots()\n",
    "bars = ax.barh(sorted_df[\"Country\"], sorted_df[\"Total\"])\n",
    "\n",
    "plt.show()"
   ]
  },
  {
   "cell_type": "markdown",
   "id": "1758a713",
   "metadata": {},
   "source": [
    "### Chart Junk\n",
    "\n",
    "This looks much better already! Now for some additional cleanup:\n",
    "\n",
    "<b>Remove borders</b>: let's take off the chart borders on the bottom, top, and right side using `ax.spines`:"
   ]
  },
  {
   "cell_type": "code",
   "execution_count": null,
   "id": "4bab99f1",
   "metadata": {},
   "outputs": [],
   "source": [
    "fig, ax = plt.subplots()\n",
    "bars = ax.barh(sorted_df[\"Country\"], sorted_df[\"Total\"])\n",
    "ax.spines[[\"bottom\", \"top\", \"right\"]].set_visible(False)\n",
    "\n",
    "plt.show()"
   ]
  },
  {
   "cell_type": "markdown",
   "id": "ab1f1d50",
   "metadata": {},
   "source": [
    "<b>Remove ticks</b>: Additionally, we will remove the ticks on the x-axis. We will label the individual bars later with their specific medal totals for easier reading:"
   ]
  },
  {
   "cell_type": "code",
   "execution_count": null,
   "id": "116732f5",
   "metadata": {},
   "outputs": [],
   "source": [
    "fig, ax = plt.subplots()\n",
    "bars = ax.barh(sorted_df[\"Country\"], sorted_df[\"Total\"])\n",
    "ax.spines[[\"bottom\", \"top\", \"right\"]].set_visible(False)\n",
    "ax.xaxis.set_visible(False)\n",
    "\n",
    "plt.show()"
   ]
  },
  {
   "cell_type": "markdown",
   "id": "9f5ea2ee",
   "metadata": {},
   "source": [
    "To add in bar labels, use `ax.bar_label`:"
   ]
  },
  {
   "cell_type": "code",
   "execution_count": null,
   "id": "dbbb2be2",
   "metadata": {},
   "outputs": [],
   "source": [
    "fig, ax = plt.subplots()\n",
    "bars = ax.barh(sorted_df[\"Country\"], sorted_df[\"Total\"])\n",
    "ax.spines[[\"bottom\", \"top\", \"right\"]].set_visible(False)\n",
    "ax.xaxis.set_visible(False)\n",
    "ax.bar_label(bars)\n",
    "\n",
    "plt.show()"
   ]
  },
  {
   "cell_type": "markdown",
   "id": "17203aeb",
   "metadata": {},
   "source": [
    "Much better! Now we can see the specific medal count for each country. \n",
    "\n",
    "We can do some additional formatting to the bar labels. Some useful parameters include:\n",
    "* `padding`: determines horizontal location\n",
    "* `color`: for text color\n",
    "* `fontsize`\n",
    "\n",
    "See https://matplotlib.org/stable/api/_as_gen/matplotlib.axes.Axes.bar_label.html for additional parameters:"
   ]
  },
  {
   "cell_type": "code",
   "execution_count": null,
   "id": "3eb7622c",
   "metadata": {},
   "outputs": [],
   "source": [
    "fig, ax = plt.subplots()\n",
    "bars = ax.barh(sorted_df[\"Country\"], sorted_df[\"Total\"])\n",
    "ax.spines[[\"bottom\", \"top\", \"right\"]].set_visible(False)\n",
    "ax.xaxis.set_visible(False)\n",
    "ax.bar_label(bars, padding=-30, color=\"white\", fontsize=12, fontweight=\"bold\")\n",
    "\n",
    "plt.show()"
   ]
  },
  {
   "cell_type": "markdown",
   "id": "a2340b4c",
   "metadata": {},
   "source": [
    "Note that the bar labels are left-aligned, so getting the 113 to show at the top necessarily introduces a space to the right on all the other numbers. We can fix that using `fmt`:"
   ]
  },
  {
   "cell_type": "code",
   "execution_count": null,
   "id": "bed7d55e",
   "metadata": {},
   "outputs": [],
   "source": [
    "fig, ax = plt.subplots()\n",
    "bars = ax.barh(sorted_df[\"Country\"], sorted_df[\"Total\"])\n",
    "ax.spines[[\"bottom\", \"top\", \"right\"]].set_visible(False)\n",
    "ax.xaxis.set_visible(False)\n",
    "ax.bar_label(bars, padding=-30, color=\"white\", fontsize=12, fontweight=\"bold\", \n",
    "             fmt=lambda x: \"  \" + str(int(x)) if x < 100 else int(x))\n",
    "\n",
    "plt.show()"
   ]
  },
  {
   "cell_type": "markdown",
   "id": "52e28f92",
   "metadata": {},
   "source": [
    "### Adding Color\n",
    "\n",
    "Since the 2021 olympics were hosted in Tokyo, let's highlight Japan to make it stand out from the rest. \n",
    "\n",
    "We can add a new column to our dataframe specifying which color to apply to each row, and then add a `color` parameter to the `ax.barh` method call:"
   ]
  },
  {
   "cell_type": "code",
   "execution_count": null,
   "id": "e30709fc",
   "metadata": {},
   "outputs": [],
   "source": [
    "# Add new column to dataframe\n",
    "\n",
    "sorted_df[\"colors\"] = sorted_df[\"Country\"].apply(lambda x: \"red\" if x == \"Japan\" else \"darkgray\")\n",
    "\n",
    "fig, ax = plt.subplots()\n",
    "bars = ax.barh(sorted_df[\"Country\"], sorted_df[\"Total\"], color = sorted_df[\"colors\"])\n",
    "ax.spines[[\"bottom\", \"top\", \"right\"]].set_visible(False)\n",
    "ax.xaxis.set_visible(False)\n",
    "ax.bar_label(bars, padding=-30, color=\"white\", fontsize=12, fontweight=\"bold\", \n",
    "             fmt=lambda x: \"  \" + str(int(x)) if x < 100 else int(x))\n",
    "\n",
    "plt.show()"
   ]
  },
  {
   "cell_type": "markdown",
   "id": "dd0c07cd",
   "metadata": {},
   "source": [
    "More about matplotlib colors can be found here:  https://matplotlib.org/stable/gallery/color/named_colors.html\n",
    "\n"
   ]
  },
  {
   "cell_type": "markdown",
   "id": "13172b9e",
   "metadata": {},
   "source": [
    "### Adding Countries\n",
    "\n",
    "Now suppose we want to add more than just the top ten countries. How will this affect our chart? Let's grab all the countries that received at least ten medals:\n"
   ]
  },
  {
   "cell_type": "code",
   "execution_count": null,
   "id": "b3acb4aa",
   "metadata": {},
   "outputs": [],
   "source": [
    "ten_medals = df[\"Total\"] >= 10  # Filtering criterion\n",
    "new_df = df[ten_medals]  # Create new data frame based on filtering criterion\n",
    "\n",
    "sorted_df = new_df.sort_values(by=\"Total\") # will sort the entire dataframe by the values in the Total column\n",
    "\n",
    "sorted_df[\"colors\"] = sorted_df[\"Country\"].apply(lambda x: \"red\" if x == \"Japan\" else \"darkgray\")\n",
    "\n",
    "fig, ax = plt.subplots()\n",
    "bars = ax.barh(sorted_df[\"Country\"], sorted_df[\"Total\"], color = sorted_df[\"colors\"])\n",
    "ax.spines[[\"bottom\", \"top\", \"right\"]].set_visible(False)\n",
    "ax.xaxis.set_visible(False)\n",
    "ax.bar_label(bars, padding=-30, color=\"white\", fontsize=12, fontweight=\"bold\", \n",
    "             fmt=lambda x: \"  \" + str(int(x)) if x < 100 else int(x))\n",
    "\n",
    "plt.show()\n"
   ]
  },
  {
   "cell_type": "markdown",
   "id": "48a19943",
   "metadata": {},
   "source": [
    "Now the chart is getting a bit crammed again! One way to fix this is to adjust the figure size in `subplots`:\n",
    "* Default `figsize` is 6.4 inches by 4.8 inches (width, height)\n",
    "* https://matplotlib.org/stable/api/_as_gen/matplotlib.pyplot.figure.html\n",
    "\n",
    "We can also adjust the font size and the padding on the bar labels:"
   ]
  },
  {
   "cell_type": "code",
   "execution_count": null,
   "id": "7cc95a38",
   "metadata": {},
   "outputs": [],
   "source": [
    "fig, ax = plt.subplots(figsize=(6.4, 6.4))\n",
    "\n",
    "bars = ax.barh(sorted_df[\"Country\"], sorted_df[\"Total\"], color = sorted_df[\"colors\"])\n",
    "ax.spines[[\"bottom\", \"top\", \"right\"]].set_visible(False)\n",
    "ax.xaxis.set_visible(False)\n",
    "ax.bar_label(bars, padding=-25, color=\"white\", fontsize=10, fontweight=\"bold\", \n",
    "             fmt=lambda x: \"  \" + str(int(x)) if x < 100 else int(x))\n",
    "\n",
    "plt.show()"
   ]
  }
 ],
 "metadata": {
  "kernelspec": {
   "display_name": "Python 3 (ipykernel)",
   "language": "python",
   "name": "python3"
  },
  "language_info": {
   "codemirror_mode": {
    "name": "ipython",
    "version": 3
   },
   "file_extension": ".py",
   "mimetype": "text/x-python",
   "name": "python",
   "nbconvert_exporter": "python",
   "pygments_lexer": "ipython3",
   "version": "3.11.4"
  }
 },
 "nbformat": 4,
 "nbformat_minor": 5
}
